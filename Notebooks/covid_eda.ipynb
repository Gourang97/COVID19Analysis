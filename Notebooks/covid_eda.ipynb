{
  "nbformat": 4,
  "nbformat_minor": 0,
  "metadata": {
    "colab": {
      "name": "covid_eda.ipynb",
      "provenance": []
    },
    "kernelspec": {
      "name": "python3",
      "display_name": "Python 3"
    }
  },
  "cells": [
    {
      "cell_type": "code",
      "metadata": {
        "id": "zqVloJMBv4Y9"
      },
      "source": [
        "import pandas as pd\r\n",
        "import numpy as np"
      ],
      "execution_count": null,
      "outputs": []
    },
    {
      "cell_type": "code",
      "metadata": {
        "id": "rIwVMy0BwFcI"
      },
      "source": [
        "data = pd.read_csv(\"/content/time-series-19-covid-combined.csv\")"
      ],
      "execution_count": null,
      "outputs": []
    },
    {
      "cell_type": "code",
      "metadata": {
        "id": "3N_hwjU3ijjF"
      },
      "source": [
        "data = data.sort_values(\"Date\").reset_index()"
      ],
      "execution_count": null,
      "outputs": []
    },
    {
      "cell_type": "code",
      "metadata": {
        "colab": {
          "base_uri": "https://localhost:8080/"
        },
        "id": "9GMYmEbbijgW",
        "outputId": "c6e1e113-75ba-4b23-bf76-b1a17d0f2f81"
      },
      "source": [
        "## Data Cleaning\r\n",
        "## Converting Date From string to Datetime\r\n",
        "\r\n",
        "data['Date'] = pd.to_datetime(data['Date'])\r\n",
        "print(data)\r\n",
        "## replacing Null Values  0 for Numeric Columns\r\n",
        "data.isna().sum()\r\n",
        "data[\"Recovered\"] = data[\"Recovered\"].fillna(0)\r\n",
        "data.isna().sum()"
      ],
      "execution_count": null,
      "outputs": [
        {
          "output_type": "stream",
          "text": [
            "       index       Date         Country/Region  ... Confirmed  Recovered  Deaths\n",
            "0          0 2020-01-22            Afghanistan  ...         0        0.0       0\n",
            "1       3900 2020-01-22              Australia  ...         0        0.0       0\n",
            "2      84175 2020-01-22         United Kingdom  ...         0        0.0       0\n",
            "3      81250 2020-01-22   United Arab Emirates  ...         0        0.0       0\n",
            "4       6825 2020-01-22               Barbados  ...         0        0.0       0\n",
            "...      ...        ...                    ...  ...       ...        ...     ...\n",
            "88070  68574 2020-12-11                Romania  ...    545567   443168.0   13116\n",
            "88071  19499 2020-12-11                  China  ...       952      939.0       9\n",
            "88072  71174 2020-12-11  Sao Tome and Principe  ...      1009      947.0      17\n",
            "88073  74749 2020-12-11           South Africa  ...    845083   758373.0   22952\n",
            "88074  88074 2020-12-11               Zimbabwe  ...     11162     9324.0     306\n",
            "\n",
            "[88075 rows x 7 columns]\n"
          ],
          "name": "stdout"
        },
        {
          "output_type": "execute_result",
          "data": {
            "text/plain": [
              "index                 0\n",
              "Date                  0\n",
              "Country/Region        0\n",
              "Province/State    61100\n",
              "Confirmed             0\n",
              "Recovered             0\n",
              "Deaths                0\n",
              "dtype: int64"
            ]
          },
          "metadata": {
            "tags": []
          },
          "execution_count": 302
        }
      ]
    },
    {
      "cell_type": "markdown",
      "metadata": {
        "id": "gPnAKht9myW6"
      },
      "source": [
        "### 3. **Merge the data for countries with multiple regions in order to provide a single time-series for each country.**"
      ]
    },
    {
      "cell_type": "code",
      "metadata": {
        "colab": {
          "base_uri": "https://localhost:8080/",
          "height": 453
        },
        "id": "CEaNAG8hijd4",
        "outputId": "b06eb382-ce0a-47ee-de4f-dfb1ed93d9b6"
      },
      "source": [
        "df_1 = data.groupby(['Date', 'Country/Region'])['Confirmed', 'Deaths', 'Recovered'].sum().reset_index()\r\n",
        "df_1"
      ],
      "execution_count": null,
      "outputs": [
        {
          "output_type": "stream",
          "text": [
            "/usr/local/lib/python3.6/dist-packages/ipykernel_launcher.py:1: FutureWarning: Indexing with multiple keys (implicitly converted to a tuple of keys) will be deprecated, use a list instead.\n",
            "  \"\"\"Entry point for launching an IPython kernel.\n"
          ],
          "name": "stderr"
        },
        {
          "output_type": "execute_result",
          "data": {
            "text/html": [
              "<div>\n",
              "<style scoped>\n",
              "    .dataframe tbody tr th:only-of-type {\n",
              "        vertical-align: middle;\n",
              "    }\n",
              "\n",
              "    .dataframe tbody tr th {\n",
              "        vertical-align: top;\n",
              "    }\n",
              "\n",
              "    .dataframe thead th {\n",
              "        text-align: right;\n",
              "    }\n",
              "</style>\n",
              "<table border=\"1\" class=\"dataframe\">\n",
              "  <thead>\n",
              "    <tr style=\"text-align: right;\">\n",
              "      <th></th>\n",
              "      <th>Date</th>\n",
              "      <th>Country/Region</th>\n",
              "      <th>Confirmed</th>\n",
              "      <th>Deaths</th>\n",
              "      <th>Recovered</th>\n",
              "    </tr>\n",
              "  </thead>\n",
              "  <tbody>\n",
              "    <tr>\n",
              "      <th>0</th>\n",
              "      <td>2020-01-22</td>\n",
              "      <td>Afghanistan</td>\n",
              "      <td>0</td>\n",
              "      <td>0</td>\n",
              "      <td>0.0</td>\n",
              "    </tr>\n",
              "    <tr>\n",
              "      <th>1</th>\n",
              "      <td>2020-01-22</td>\n",
              "      <td>Albania</td>\n",
              "      <td>0</td>\n",
              "      <td>0</td>\n",
              "      <td>0.0</td>\n",
              "    </tr>\n",
              "    <tr>\n",
              "      <th>2</th>\n",
              "      <td>2020-01-22</td>\n",
              "      <td>Algeria</td>\n",
              "      <td>0</td>\n",
              "      <td>0</td>\n",
              "      <td>0.0</td>\n",
              "    </tr>\n",
              "    <tr>\n",
              "      <th>3</th>\n",
              "      <td>2020-01-22</td>\n",
              "      <td>Andorra</td>\n",
              "      <td>0</td>\n",
              "      <td>0</td>\n",
              "      <td>0.0</td>\n",
              "    </tr>\n",
              "    <tr>\n",
              "      <th>4</th>\n",
              "      <td>2020-01-22</td>\n",
              "      <td>Angola</td>\n",
              "      <td>0</td>\n",
              "      <td>0</td>\n",
              "      <td>0.0</td>\n",
              "    </tr>\n",
              "    <tr>\n",
              "      <th>...</th>\n",
              "      <td>...</td>\n",
              "      <td>...</td>\n",
              "      <td>...</td>\n",
              "      <td>...</td>\n",
              "      <td>...</td>\n",
              "    </tr>\n",
              "    <tr>\n",
              "      <th>62070</th>\n",
              "      <td>2020-12-11</td>\n",
              "      <td>Vietnam</td>\n",
              "      <td>1391</td>\n",
              "      <td>35</td>\n",
              "      <td>1238.0</td>\n",
              "    </tr>\n",
              "    <tr>\n",
              "      <th>62071</th>\n",
              "      <td>2020-12-11</td>\n",
              "      <td>West Bank and Gaza</td>\n",
              "      <td>106622</td>\n",
              "      <td>931</td>\n",
              "      <td>81166.0</td>\n",
              "    </tr>\n",
              "    <tr>\n",
              "      <th>62072</th>\n",
              "      <td>2020-12-11</td>\n",
              "      <td>Yemen</td>\n",
              "      <td>2082</td>\n",
              "      <td>606</td>\n",
              "      <td>1383.0</td>\n",
              "    </tr>\n",
              "    <tr>\n",
              "      <th>62073</th>\n",
              "      <td>2020-12-11</td>\n",
              "      <td>Zambia</td>\n",
              "      <td>18161</td>\n",
              "      <td>365</td>\n",
              "      <td>17329.0</td>\n",
              "    </tr>\n",
              "    <tr>\n",
              "      <th>62074</th>\n",
              "      <td>2020-12-11</td>\n",
              "      <td>Zimbabwe</td>\n",
              "      <td>11162</td>\n",
              "      <td>306</td>\n",
              "      <td>9324.0</td>\n",
              "    </tr>\n",
              "  </tbody>\n",
              "</table>\n",
              "<p>62075 rows × 5 columns</p>\n",
              "</div>"
            ],
            "text/plain": [
              "            Date      Country/Region  Confirmed  Deaths  Recovered\n",
              "0     2020-01-22         Afghanistan          0       0        0.0\n",
              "1     2020-01-22             Albania          0       0        0.0\n",
              "2     2020-01-22             Algeria          0       0        0.0\n",
              "3     2020-01-22             Andorra          0       0        0.0\n",
              "4     2020-01-22              Angola          0       0        0.0\n",
              "...          ...                 ...        ...     ...        ...\n",
              "62070 2020-12-11             Vietnam       1391      35     1238.0\n",
              "62071 2020-12-11  West Bank and Gaza     106622     931    81166.0\n",
              "62072 2020-12-11               Yemen       2082     606     1383.0\n",
              "62073 2020-12-11              Zambia      18161     365    17329.0\n",
              "62074 2020-12-11            Zimbabwe      11162     306     9324.0\n",
              "\n",
              "[62075 rows x 5 columns]"
            ]
          },
          "metadata": {
            "tags": []
          },
          "execution_count": 303
        }
      ]
    },
    {
      "cell_type": "markdown",
      "metadata": {
        "id": "A4EMTkozXG94"
      },
      "source": [
        "## **4. Print the total number of confirmed cases and number of deaths in each country in the last reported day. What are the 10 countries with the highest number of confirmed COVID-19 cases? What are the 10 countries with the highest number of deaths?**"
      ]
    },
    {
      "cell_type": "markdown",
      "metadata": {
        "id": "PMJuAUflr0vs"
      },
      "source": [
        "## **Top 10 Countries with Highest Confirmed Cases**"
      ]
    },
    {
      "cell_type": "code",
      "metadata": {
        "colab": {
          "base_uri": "https://localhost:8080/"
        },
        "id": "5hQSnNUOXDtB",
        "outputId": "9a547540-90ba-46b4-b873-88fe47a46def"
      },
      "source": [
        "new_df = df_1[df_1.Date == \"2020-12-11\"]\r\n",
        "df_2_1 = new_df.sort_values(\"Confirmed\", ascending = False)[:20]\r\n",
        "print(df_2_1[[\"Country/Region\",\"Confirmed\"]].head(10)) # 10 Countries with Highest Confirmed Cases\r\n"
      ],
      "execution_count": null,
      "outputs": [
        {
          "output_type": "stream",
          "text": [
            "       Country/Region  Confirmed\n",
            "62061              US   15842789\n",
            "61963           India    9826775\n",
            "61907          Brazil    6836227\n",
            "62025          Russia    2574319\n",
            "61946          France    2405210\n",
            "62065  United Kingdom    1814395\n",
            "61969           Italy    1805873\n",
            "62060          Turkey    1780673\n",
            "62045           Spain    1730575\n",
            "61890       Argentina    1489328\n"
          ],
          "name": "stdout"
        }
      ]
    },
    {
      "cell_type": "markdown",
      "metadata": {
        "id": "9oad-zHjrSLd"
      },
      "source": [
        "## **Top 10 Countries with highest Deaths**"
      ]
    },
    {
      "cell_type": "code",
      "metadata": {
        "colab": {
          "base_uri": "https://localhost:8080/",
          "height": 359
        },
        "id": "rUR2efworYlE",
        "outputId": "a886c124-d142-4e9d-d025-79d7b891cae8"
      },
      "source": [
        "df_2_2 = new_df.sort_values(\"Deaths\", ascending = False)\r\n",
        "df_ans = df_2_2[[\"Country/Region\",\"Deaths\"]][:10]\r\n",
        "df_ans"
      ],
      "execution_count": null,
      "outputs": [
        {
          "output_type": "execute_result",
          "data": {
            "text/html": [
              "<div>\n",
              "<style scoped>\n",
              "    .dataframe tbody tr th:only-of-type {\n",
              "        vertical-align: middle;\n",
              "    }\n",
              "\n",
              "    .dataframe tbody tr th {\n",
              "        vertical-align: top;\n",
              "    }\n",
              "\n",
              "    .dataframe thead th {\n",
              "        text-align: right;\n",
              "    }\n",
              "</style>\n",
              "<table border=\"1\" class=\"dataframe\">\n",
              "  <thead>\n",
              "    <tr style=\"text-align: right;\">\n",
              "      <th></th>\n",
              "      <th>Country/Region</th>\n",
              "      <th>Deaths</th>\n",
              "    </tr>\n",
              "  </thead>\n",
              "  <tbody>\n",
              "    <tr>\n",
              "      <th>62061</th>\n",
              "      <td>US</td>\n",
              "      <td>295450</td>\n",
              "    </tr>\n",
              "    <tr>\n",
              "      <th>61907</th>\n",
              "      <td>Brazil</td>\n",
              "      <td>180437</td>\n",
              "    </tr>\n",
              "    <tr>\n",
              "      <th>61963</th>\n",
              "      <td>India</td>\n",
              "      <td>142628</td>\n",
              "    </tr>\n",
              "    <tr>\n",
              "      <th>61998</th>\n",
              "      <td>Mexico</td>\n",
              "      <td>113019</td>\n",
              "    </tr>\n",
              "    <tr>\n",
              "      <th>62065</th>\n",
              "      <td>United Kingdom</td>\n",
              "      <td>63603</td>\n",
              "    </tr>\n",
              "    <tr>\n",
              "      <th>61969</th>\n",
              "      <td>Italy</td>\n",
              "      <td>63387</td>\n",
              "    </tr>\n",
              "    <tr>\n",
              "      <th>61946</th>\n",
              "      <td>France</td>\n",
              "      <td>57671</td>\n",
              "    </tr>\n",
              "    <tr>\n",
              "      <th>61965</th>\n",
              "      <td>Iran</td>\n",
              "      <td>51727</td>\n",
              "    </tr>\n",
              "    <tr>\n",
              "      <th>62045</th>\n",
              "      <td>Spain</td>\n",
              "      <td>47624</td>\n",
              "    </tr>\n",
              "    <tr>\n",
              "      <th>62025</th>\n",
              "      <td>Russia</td>\n",
              "      <td>45370</td>\n",
              "    </tr>\n",
              "  </tbody>\n",
              "</table>\n",
              "</div>"
            ],
            "text/plain": [
              "       Country/Region  Deaths\n",
              "62061              US  295450\n",
              "61907          Brazil  180437\n",
              "61963           India  142628\n",
              "61998          Mexico  113019\n",
              "62065  United Kingdom   63603\n",
              "61969           Italy   63387\n",
              "61946          France   57671\n",
              "61965            Iran   51727\n",
              "62045           Spain   47624\n",
              "62025          Russia   45370"
            ]
          },
          "metadata": {
            "tags": []
          },
          "execution_count": 305
        }
      ]
    },
    {
      "cell_type": "markdown",
      "metadata": {
        "id": "PuEa7zChsFnX"
      },
      "source": [
        "## **5. Plot a graph of the number of confirmed cases over time for each country. Which countries present exponential growth in the number of cases and which countries are already leaving exponential growth?**\r\n",
        "Assumptions :\r\n",
        "We will be using the Top 6 Countries[USA, INDIA, Brazil, Russia, France, UK] with Highest Confirmed Cases and observing there exponential Growth by plotting the graph of Total Confirmed Cases vs Month. We will also be Neglecting the December trend and the data for December month is not sufficient to observe the Trend"
      ]
    },
    {
      "cell_type": "code",
      "metadata": {
        "colab": {
          "base_uri": "https://localhost:8080/"
        },
        "id": "dEG9nWWiIR_b",
        "outputId": "bbb97236-7452-4abb-db8c-46798bb5e3ab"
      },
      "source": [
        "import matplotlib.pyplot as plt\r\n",
        "country_li = []\r\n",
        "df_new = pd.DataFrame(df_2_1[\"Country/Region\"][:6])\r\n",
        "df_new_reset = df_new.reset_index()\r\n",
        "country_li = df_new_reset[\"Country/Region\"].unique()\r\n",
        "country_li"
      ],
      "execution_count": null,
      "outputs": [
        {
          "output_type": "execute_result",
          "data": {
            "text/plain": [
              "array(['US', 'India', 'Brazil', 'Russia', 'France', 'United Kingdom'],\n",
              "      dtype=object)"
            ]
          },
          "metadata": {
            "tags": []
          },
          "execution_count": 306
        }
      ]
    },
    {
      "cell_type": "code",
      "metadata": {
        "colab": {
          "base_uri": "https://localhost:8080/",
          "height": 313
        },
        "id": "R3olKCVTNuja",
        "outputId": "a990cc30-83e5-4a82-ab1e-178ac005f247"
      },
      "source": [
        "df_5 = df_1[df_1[\"Country/Region\"]==\"US\"][[\"Date\",\"Country/Region\",\"Confirmed\"]]\r\n",
        "x = df_5.reset_index()\r\n",
        "new_li = [1]\r\n",
        "\r\n",
        "li = x[\"Confirmed\"]\r\n",
        "for i in range(1,x.shape[0]):\r\n",
        "    temp = abs(li[i] - li[i-1])\r\n",
        "    new_li.append(temp)\r\n",
        "df_5[\"Confirmed_per_month\"] = new_li\r\n",
        "\r\n",
        "df_5.Date = pd.to_datetime(df_5.Date)\r\n",
        "df_5_new = df_5.groupby(pd.Grouper(key='Date', freq='1M')).agg({\"Confirmed_per_month\":'sum'}) # groupby each 1 month\r\n",
        "df_5_new = df_5_new.reset_index()\r\n",
        "df_5_new[\"Month\"] = pd.to_datetime(df_5_new['Date']).dt.to_period('M')\r\n",
        "df_5_new[['Month','Confirmed_per_month']].plot(kind='bar',xlabel = \"Months\" ,ylabel = \"Confirmed Cases Month Wise[US]\")\r\n",
        "df_5_new['Confirmed_per_month'].plot(secondary_y=True)\r\n"
      ],
      "execution_count": null,
      "outputs": [
        {
          "output_type": "execute_result",
          "data": {
            "text/plain": [
              "<matplotlib.axes._subplots.AxesSubplot at 0x7f50a6d7abe0>"
            ]
          },
          "metadata": {
            "tags": []
          },
          "execution_count": 307
        },
        {
          "output_type": "display_data",
          "data": {
            "image/png": "[encoded data removed]",
            "text/plain": [
              "<Figure size 432x288 with 2 Axes>"
            ]
          },
          "metadata": {
            "tags": []
          }
        }
      ]
    },
    {
      "cell_type": "markdown",
      "metadata": {
        "id": "mh7QjzF6BlLY"
      },
      "source": [
        "## We can clearly observe that US Follows the Exponential Growth Trend"
      ]
    },
    {
      "cell_type": "code",
      "metadata": {
        "colab": {
          "base_uri": "https://localhost:8080/",
          "height": 313
        },
        "id": "u6Io7zGwNugX",
        "outputId": "1c1ee145-ae31-4ffa-fe8f-f3188d1a42e7"
      },
      "source": [
        "df_5 = df_1[df_1[\"Country/Region\"]==\"India\"][[\"Date\",\"Country/Region\",\"Confirmed\"]]\r\n",
        "x = df_5.reset_index()\r\n",
        "new_li = [1]\r\n",
        "\r\n",
        "li = x[\"Confirmed\"]\r\n",
        "for i in range(1,x.shape[0]):\r\n",
        "    temp = abs(li[i] - li[i-1])\r\n",
        "    new_li.append(temp)\r\n",
        "df_5[\"Confirmed_per_month\"] = new_li\r\n",
        "\r\n",
        "df_5.Date = pd.to_datetime(df_5.Date)\r\n",
        "df_5_new = df_5.groupby(pd.Grouper(key='Date', freq='1M')).agg({\"Confirmed_per_month\":'sum'}) # groupby each 1 month\r\n",
        "df_5_new = df_5_new.reset_index()\r\n",
        "df_5_new[\"Month\"] = pd.to_datetime(df_5_new['Date']).dt.to_period('M')\r\n",
        "df_5_new[['Month','Confirmed_per_month']].plot(kind='bar',xlabel = \"Months\" ,ylabel = \"Confirmed Cases Month Wise[India]\")\r\n",
        "df_5_new['Confirmed_per_month'].plot(secondary_y=True)\r\n"
      ],
      "execution_count": null,
      "outputs": [
        {
          "output_type": "execute_result",
          "data": {
            "text/plain": [
              "<matplotlib.axes._subplots.AxesSubplot at 0x7f50a6fcb940>"
            ]
          },
          "metadata": {
            "tags": []
          },
          "execution_count": 308
        },
        {
          "output_type": "display_data",
          "data": {
            "image/png": "[encoded data removed]",
            "text/plain": [
              "<Figure size 432x288 with 2 Axes>"
            ]
          },
          "metadata": {
            "tags": []
          }
        }
      ]
    },
    {
      "cell_type": "markdown",
      "metadata": {
        "id": "RMru9wkuIhEk"
      },
      "source": [
        "## We can clearly observe that India is coming out of the the Exponential Growth Trend"
      ]
    },
    {
      "cell_type": "code",
      "metadata": {
        "colab": {
          "base_uri": "https://localhost:8080/",
          "height": 313
        },
        "id": "OOM6fR-JI6Q9",
        "outputId": "806bd7db-4d70-4782-ce50-97ac5fdf5a46"
      },
      "source": [
        "df_5 = df_1[df_1[\"Country/Region\"]==\"Brazil\"][[\"Date\",\"Country/Region\",\"Confirmed\"]]\r\n",
        "x = df_5.reset_index()\r\n",
        "new_li = [1]\r\n",
        "\r\n",
        "li = x[\"Confirmed\"]\r\n",
        "for i in range(1,x.shape[0]):\r\n",
        "    temp = abs(li[i] - li[i-1])\r\n",
        "    new_li.append(temp)\r\n",
        "df_5[\"Confirmed_per_month\"] = new_li\r\n",
        "\r\n",
        "df_5.Date = pd.to_datetime(df_5.Date)\r\n",
        "df_5_new = df_5.groupby(pd.Grouper(key='Date', freq='1M')).agg({\"Confirmed_per_month\":'sum'}) # groupby each 1 month\r\n",
        "df_5_new = df_5_new.reset_index()\r\n",
        "df_5_new[\"Month\"] = pd.to_datetime(df_5_new['Date']).dt.to_period('M')\r\n",
        "df_5_new[['Month','Confirmed_per_month']].plot(kind='bar',xlabel = \"Months\" ,ylabel = \"Confirmed Cases Month Wise[Brazil]\")\r\n",
        "df_5_new['Confirmed_per_month'].plot(secondary_y=True)"
      ],
      "execution_count": null,
      "outputs": [
        {
          "output_type": "execute_result",
          "data": {
            "text/plain": [
              "<matplotlib.axes._subplots.AxesSubplot at 0x7f50a65b27b8>"
            ]
          },
          "metadata": {
            "tags": []
          },
          "execution_count": 309
        },
        {
          "output_type": "display_data",
          "data": {
            "image/png": "[encoded data removed]",
            "text/plain": [
              "<Figure size 432x288 with 2 Axes>"
            ]
          },
          "metadata": {
            "tags": []
          }
        }
      ]
    },
    {
      "cell_type": "markdown",
      "metadata": {
        "id": "V-BCfPdGMR22"
      },
      "source": [
        "## We can clearly observe that Brazil is coming out of the the Exponential Growth Trend"
      ]
    },
    {
      "cell_type": "code",
      "metadata": {
        "colab": {
          "base_uri": "https://localhost:8080/",
          "height": 305
        },
        "id": "kqpDPRsBI5H2",
        "outputId": "bc1dc26a-fd82-4cbc-e2a5-9a2e6bc40990"
      },
      "source": [
        "df_5 = df_1[df_1[\"Country/Region\"]==\"Russia\"][[\"Date\",\"Country/Region\",\"Confirmed\"]]\r\n",
        "x = df_5.reset_index()\r\n",
        "new_li = [1]\r\n",
        "\r\n",
        "li = x[\"Confirmed\"]\r\n",
        "for i in range(1,x.shape[0]):\r\n",
        "    temp = abs(li[i] - li[i-1])\r\n",
        "    new_li.append(temp)\r\n",
        "df_5[\"Confirmed_per_month\"] = new_li\r\n",
        "\r\n",
        "df_5.Date = pd.to_datetime(df_5.Date)\r\n",
        "df_5_new = df_5.groupby(pd.Grouper(key='Date', freq='1M')).agg({\"Confirmed_per_month\":'sum'}) # groupby each 1 month\r\n",
        "df_5_new = df_5_new.reset_index()\r\n",
        "df_5_new[\"Month\"] = pd.to_datetime(df_5_new['Date']).dt.to_period('M')\r\n",
        "df_5_new[['Month','Confirmed_per_month']].plot(kind='bar',xlabel = \"Months\" ,ylabel = \"Confirmed Cases Month Wise[Russia]\")\r\n",
        "df_5_new['Confirmed_per_month'].plot(secondary_y=True)"
      ],
      "execution_count": null,
      "outputs": [
        {
          "output_type": "execute_result",
          "data": {
            "text/plain": [
              "<matplotlib.axes._subplots.AxesSubplot at 0x7f50a6506240>"
            ]
          },
          "metadata": {
            "tags": []
          },
          "execution_count": 310
        },
        {
          "output_type": "display_data",
          "data": {
            "image/png": "[encoded data removed]",
            "text/plain": [
              "<Figure size 432x288 with 2 Axes>"
            ]
          },
          "metadata": {
            "tags": []
          }
        }
      ]
    },
    {
      "cell_type": "markdown",
      "metadata": {
        "id": "13XZx0cLMemd"
      },
      "source": [
        "## We can clearly observe that Russia is in the Exponential Growth Trend"
      ]
    },
    {
      "cell_type": "code",
      "metadata": {
        "colab": {
          "base_uri": "https://localhost:8080/",
          "height": 306
        },
        "id": "K61oZaVXI45u",
        "outputId": "6c3c4bee-a7c1-4169-e501-2fbb817c5032"
      },
      "source": [
        "df_5 = df_1[df_1[\"Country/Region\"]==\"France\"][[\"Date\",\"Country/Region\",\"Confirmed\"]]\r\n",
        "x = df_5.reset_index()\r\n",
        "new_li = [1]\r\n",
        "\r\n",
        "li = x[\"Confirmed\"]\r\n",
        "for i in range(1,x.shape[0]):\r\n",
        "    temp = abs(li[i] - li[i-1])\r\n",
        "    new_li.append(temp)\r\n",
        "df_5[\"Confirmed_per_month\"] = new_li\r\n",
        "\r\n",
        "df_5.Date = pd.to_datetime(df_5.Date)\r\n",
        "df_5_new = df_5.groupby(pd.Grouper(key='Date', freq='1M')).agg({\"Confirmed_per_month\":'sum'}) # groupby each 1 month\r\n",
        "df_5_new = df_5_new.reset_index()\r\n",
        "df_5_new[\"Month\"] = pd.to_datetime(df_5_new['Date']).dt.to_period('M')\r\n",
        "df_5_new[['Month','Confirmed_per_month']].plot(kind='bar',xlabel = \"Months\" ,ylabel = \"Confirmed Cases Month Wise[France]\")\r\n",
        "df_5_new['Confirmed_per_month'].plot(secondary_y=True)"
      ],
      "execution_count": null,
      "outputs": [
        {
          "output_type": "execute_result",
          "data": {
            "text/plain": [
              "<matplotlib.axes._subplots.AxesSubplot at 0x7f50a63de6d8>"
            ]
          },
          "metadata": {
            "tags": []
          },
          "execution_count": 311
        },
        {
          "output_type": "display_data",
          "data": {
            "image/png": "[encoded data removed]",
            "text/plain": [
              "<Figure size 432x288 with 2 Axes>"
            ]
          },
          "metadata": {
            "tags": []
          }
        }
      ]
    },
    {
      "cell_type": "markdown",
      "metadata": {
        "id": "GsCoP6h9MwFy"
      },
      "source": [
        "## We can clearly observe that France is in the Exponential Growth Trend"
      ]
    },
    {
      "cell_type": "code",
      "metadata": {
        "colab": {
          "base_uri": "https://localhost:8080/",
          "height": 302
        },
        "id": "CBltrj3sI4vc",
        "outputId": "ca91fe25-c4d3-4ca4-8a24-8862fa994a26"
      },
      "source": [
        "df_5 = df_1[df_1[\"Country/Region\"]==\"United Kingdom\"][[\"Date\",\"Country/Region\",\"Confirmed\"]]\r\n",
        "x = df_5.reset_index()\r\n",
        "new_li = [1]\r\n",
        "\r\n",
        "li = x[\"Confirmed\"]\r\n",
        "for i in range(1,x.shape[0]):\r\n",
        "    temp = abs(li[i] - li[i-1])\r\n",
        "    new_li.append(temp)\r\n",
        "df_5[\"Confirmed_per_month\"] = new_li\r\n",
        "\r\n",
        "df_5.Date = pd.to_datetime(df_5.Date)\r\n",
        "df_5_new = df_5.groupby(pd.Grouper(key='Date', freq='1M')).agg({\"Confirmed_per_month\":'sum'}) # groupby each 1 month\r\n",
        "df_5_new = df_5_new.reset_index()\r\n",
        "df_5_new[\"Month\"] = pd.to_datetime(df_5_new['Date']).dt.to_period('M')\r\n",
        "df_5_new[['Month','Confirmed_per_month']].plot(kind='bar',xlabel = \"Months\" ,ylabel = \"Confirmed Cases Month Wise[UK]\")\r\n",
        "df_5_new['Confirmed_per_month'].plot(secondary_y=True)"
      ],
      "execution_count": null,
      "outputs": [
        {
          "output_type": "execute_result",
          "data": {
            "text/plain": [
              "<matplotlib.axes._subplots.AxesSubplot at 0x7f50a6326ba8>"
            ]
          },
          "metadata": {
            "tags": []
          },
          "execution_count": 312
        },
        {
          "output_type": "display_data",
          "data": {
            "image/png": "[encoded data removed]",
            "text/plain": [
              "<Figure size 432x288 with 2 Axes>"
            ]
          },
          "metadata": {
            "tags": []
          }
        }
      ]
    },
    {
      "cell_type": "markdown",
      "metadata": {
        "id": "yKz9nbbUM6GN"
      },
      "source": [
        "## We can clearly observe that Uk is in the Exponential Growth Trend"
      ]
    },
    {
      "cell_type": "markdown",
      "metadata": {
        "id": "5o1WcYyF3QXH"
      },
      "source": [
        "##  6. Create a bar plot that shows the number of deaths per 100 confirmed cases (observed case-fatality ratio) for the 20 most a\u000bected countries. "
      ]
    },
    {
      "cell_type": "code",
      "metadata": {
        "id": "d1Xxj3WzNudd"
      },
      "source": [
        "df_2_1[\"Case_Fatality_Ratio\"] = (df_2_1[\"Deaths\"]/(df_2_1[\"Confirmed\"]/100))\r\n",
        "df_6 = df_2_1[[\"Country/Region\", \"Case_Fatality_Ratio\"]].sort_values(\"Case_Fatality_Ratio\",ascending = False)[:20]"
      ],
      "execution_count": null,
      "outputs": []
    },
    {
      "cell_type": "code",
      "metadata": {
        "colab": {
          "base_uri": "https://localhost:8080/",
          "height": 427
        },
        "id": "lKriYNdINuZ7",
        "outputId": "897f4e50-3920-456a-e52c-1fc86102e425"
      },
      "source": [
        "import seaborn as sns\r\n",
        "import matplotlib.pyplot as plt\r\n",
        "\r\n",
        "fig, ax = plt.subplots(figsize = (16,6))\r\n",
        "sns.set_theme(style=\"whitegrid\")\r\n",
        "\r\n",
        "ax = sns.barplot(x=\"Case_Fatality_Ratio\", y=\"Country/Region\", data = df_6)\r\n",
        "\r\n",
        "ax.set_title(\" Case Fatality Ratio per 100 Confirmed Cases\")\r\n"
      ],
      "execution_count": null,
      "outputs": [
        {
          "output_type": "execute_result",
          "data": {
            "text/plain": [
              "Text(0.5, 1.0, ' Case Fatality Ratio per 100 Confirmed Cases')"
            ]
          },
          "metadata": {
            "tags": []
          },
          "execution_count": 314
        },
        {
          "output_type": "display_data",
          "data": {
            "image/png": "[encoded data removed]",
            "text/plain": [
              "<Figure size 1152x432 with 1 Axes>"
            ]
          },
          "metadata": {
            "tags": []
          }
        }
      ]
    },
    {
      "cell_type": "markdown",
      "metadata": {
        "id": "ikjzgoL2ACNI"
      },
      "source": [
        "## **7. Compute the ratio between the total number of confirmed cases and the population size for each country. The file worldpopulation.json contains data on the population size of each country. What are the 10 countries with the highest number of confirmed COVID-19 cases per capita?**"
      ]
    },
    {
      "cell_type": "code",
      "metadata": {
        "id": "pUwxnqtaNuV_"
      },
      "source": [
        "world_data = pd.read_json('/content/worldpopulation.json')"
      ],
      "execution_count": null,
      "outputs": []
    },
    {
      "cell_type": "code",
      "metadata": {
        "colab": {
          "base_uri": "https://localhost:8080/",
          "height": 419
        },
        "id": "9GQ3MfCXNuFU",
        "outputId": "06737cf4-0bf9-4421-f119-1a3765f59ae4"
      },
      "source": [
        "# Since US is withing top 20 confirmed cases country we are fixing its name in World Population so that when we merge it doesn't yield None\r\n",
        "\r\n",
        "world_data = world_data.replace(\"U.S.\",\"US\")\r\n",
        "world_data = world_data.replace(\"Czech Republic\",\"Czechia\")\r\n",
        "\r\n",
        "df_7 =  world_data[[\"country\",\"population\"]]\r\n",
        "df_7_merged = pd.merge(left=new_df, right = df_7, how='left', left_on='Country/Region', right_on = \"country\")\r\n",
        "df_7_merged[\"Confirmed_cases_per_capita\"] = df_7_merged[\"Confirmed\"]/df_7_merged[\"population\"]\r\n",
        "df_7_merged"
      ],
      "execution_count": null,
      "outputs": [
        {
          "output_type": "execute_result",
          "data": {
            "text/html": [
              "<div>\n",
              "<style scoped>\n",
              "    .dataframe tbody tr th:only-of-type {\n",
              "        vertical-align: middle;\n",
              "    }\n",
              "\n",
              "    .dataframe tbody tr th {\n",
              "        vertical-align: top;\n",
              "    }\n",
              "\n",
              "    .dataframe thead th {\n",
              "        text-align: right;\n",
              "    }\n",
              "</style>\n",
              "<table border=\"1\" class=\"dataframe\">\n",
              "  <thead>\n",
              "    <tr style=\"text-align: right;\">\n",
              "      <th></th>\n",
              "      <th>Date</th>\n",
              "      <th>Country/Region</th>\n",
              "      <th>Confirmed</th>\n",
              "      <th>Deaths</th>\n",
              "      <th>Recovered</th>\n",
              "      <th>country</th>\n",
              "      <th>population</th>\n",
              "      <th>Confirmed_cases_per_capita</th>\n",
              "    </tr>\n",
              "  </thead>\n",
              "  <tbody>\n",
              "    <tr>\n",
              "      <th>0</th>\n",
              "      <td>2020-12-11</td>\n",
              "      <td>Afghanistan</td>\n",
              "      <td>48116</td>\n",
              "      <td>1945</td>\n",
              "      <td>38141.0</td>\n",
              "      <td>Afghanistan</td>\n",
              "      <td>34169169.0</td>\n",
              "      <td>0.001408</td>\n",
              "    </tr>\n",
              "    <tr>\n",
              "      <th>1</th>\n",
              "      <td>2020-12-11</td>\n",
              "      <td>Albania</td>\n",
              "      <td>46863</td>\n",
              "      <td>977</td>\n",
              "      <td>24136.0</td>\n",
              "      <td>Albania</td>\n",
              "      <td>2911428.0</td>\n",
              "      <td>0.016096</td>\n",
              "    </tr>\n",
              "    <tr>\n",
              "      <th>2</th>\n",
              "      <td>2020-12-11</td>\n",
              "      <td>Algeria</td>\n",
              "      <td>91121</td>\n",
              "      <td>2575</td>\n",
              "      <td>59590.0</td>\n",
              "      <td>Algeria</td>\n",
              "      <td>41063753.0</td>\n",
              "      <td>0.002219</td>\n",
              "    </tr>\n",
              "    <tr>\n",
              "      <th>3</th>\n",
              "      <td>2020-12-11</td>\n",
              "      <td>Andorra</td>\n",
              "      <td>7236</td>\n",
              "      <td>78</td>\n",
              "      <td>6598.0</td>\n",
              "      <td>Andorra</td>\n",
              "      <td>68728.0</td>\n",
              "      <td>0.105285</td>\n",
              "    </tr>\n",
              "    <tr>\n",
              "      <th>4</th>\n",
              "      <td>2020-12-11</td>\n",
              "      <td>Angola</td>\n",
              "      <td>16061</td>\n",
              "      <td>365</td>\n",
              "      <td>8798.0</td>\n",
              "      <td>Angola</td>\n",
              "      <td>26655513.0</td>\n",
              "      <td>0.000603</td>\n",
              "    </tr>\n",
              "    <tr>\n",
              "      <th>...</th>\n",
              "      <td>...</td>\n",
              "      <td>...</td>\n",
              "      <td>...</td>\n",
              "      <td>...</td>\n",
              "      <td>...</td>\n",
              "      <td>...</td>\n",
              "      <td>...</td>\n",
              "      <td>...</td>\n",
              "    </tr>\n",
              "    <tr>\n",
              "      <th>186</th>\n",
              "      <td>2020-12-11</td>\n",
              "      <td>Vietnam</td>\n",
              "      <td>1391</td>\n",
              "      <td>35</td>\n",
              "      <td>1238.0</td>\n",
              "      <td>NaN</td>\n",
              "      <td>NaN</td>\n",
              "      <td>NaN</td>\n",
              "    </tr>\n",
              "    <tr>\n",
              "      <th>187</th>\n",
              "      <td>2020-12-11</td>\n",
              "      <td>West Bank and Gaza</td>\n",
              "      <td>106622</td>\n",
              "      <td>931</td>\n",
              "      <td>81166.0</td>\n",
              "      <td>NaN</td>\n",
              "      <td>NaN</td>\n",
              "      <td>NaN</td>\n",
              "    </tr>\n",
              "    <tr>\n",
              "      <th>188</th>\n",
              "      <td>2020-12-11</td>\n",
              "      <td>Yemen</td>\n",
              "      <td>2082</td>\n",
              "      <td>606</td>\n",
              "      <td>1383.0</td>\n",
              "      <td>Yemen</td>\n",
              "      <td>28119546.0</td>\n",
              "      <td>0.000074</td>\n",
              "    </tr>\n",
              "    <tr>\n",
              "      <th>189</th>\n",
              "      <td>2020-12-11</td>\n",
              "      <td>Zambia</td>\n",
              "      <td>18161</td>\n",
              "      <td>365</td>\n",
              "      <td>17329.0</td>\n",
              "      <td>Zambia</td>\n",
              "      <td>17237931.0</td>\n",
              "      <td>0.001054</td>\n",
              "    </tr>\n",
              "    <tr>\n",
              "      <th>190</th>\n",
              "      <td>2020-12-11</td>\n",
              "      <td>Zimbabwe</td>\n",
              "      <td>11162</td>\n",
              "      <td>306</td>\n",
              "      <td>9324.0</td>\n",
              "      <td>Zimbabwe</td>\n",
              "      <td>16337760.0</td>\n",
              "      <td>0.000683</td>\n",
              "    </tr>\n",
              "  </tbody>\n",
              "</table>\n",
              "<p>191 rows × 8 columns</p>\n",
              "</div>"
            ],
            "text/plain": [
              "          Date      Country/Region  ...  population  Confirmed_cases_per_capita\n",
              "0   2020-12-11         Afghanistan  ...  34169169.0                    0.001408\n",
              "1   2020-12-11             Albania  ...   2911428.0                    0.016096\n",
              "2   2020-12-11             Algeria  ...  41063753.0                    0.002219\n",
              "3   2020-12-11             Andorra  ...     68728.0                    0.105285\n",
              "4   2020-12-11              Angola  ...  26655513.0                    0.000603\n",
              "..         ...                 ...  ...         ...                         ...\n",
              "186 2020-12-11             Vietnam  ...         NaN                         NaN\n",
              "187 2020-12-11  West Bank and Gaza  ...         NaN                         NaN\n",
              "188 2020-12-11               Yemen  ...  28119546.0                    0.000074\n",
              "189 2020-12-11              Zambia  ...  17237931.0                    0.001054\n",
              "190 2020-12-11            Zimbabwe  ...  16337760.0                    0.000683\n",
              "\n",
              "[191 rows x 8 columns]"
            ]
          },
          "metadata": {
            "tags": []
          },
          "execution_count": 316
        }
      ]
    },
    {
      "cell_type": "markdown",
      "metadata": {
        "id": "3s2Kl0iLS35Q"
      },
      "source": [
        "**10 countries with the highest number of confirmed COVID-19 cases per capita**"
      ]
    },
    {
      "cell_type": "code",
      "metadata": {
        "colab": {
          "base_uri": "https://localhost:8080/",
          "height": 359
        },
        "id": "SdJzT1o1Ninh",
        "outputId": "518522f4-ddf2-478a-bce8-265d42024904"
      },
      "source": [
        "countries = pd.DataFrame(df_7_merged.sort_values(\"Confirmed_cases_per_capita\", ascending=False)[:10])\r\n",
        "countries[[\"Country/Region\", \"Confirmed_cases_per_capita\"]]"
      ],
      "execution_count": null,
      "outputs": [
        {
          "output_type": "execute_result",
          "data": {
            "text/html": [
              "<div>\n",
              "<style scoped>\n",
              "    .dataframe tbody tr th:only-of-type {\n",
              "        vertical-align: middle;\n",
              "    }\n",
              "\n",
              "    .dataframe tbody tr th {\n",
              "        vertical-align: top;\n",
              "    }\n",
              "\n",
              "    .dataframe thead th {\n",
              "        text-align: right;\n",
              "    }\n",
              "</style>\n",
              "<table border=\"1\" class=\"dataframe\">\n",
              "  <thead>\n",
              "    <tr style=\"text-align: right;\">\n",
              "      <th></th>\n",
              "      <th>Country/Region</th>\n",
              "      <th>Confirmed_cases_per_capita</th>\n",
              "    </tr>\n",
              "  </thead>\n",
              "  <tbody>\n",
              "    <tr>\n",
              "      <th>3</th>\n",
              "      <td>Andorra</td>\n",
              "      <td>0.105285</td>\n",
              "    </tr>\n",
              "    <tr>\n",
              "      <th>103</th>\n",
              "      <td>Luxembourg</td>\n",
              "      <td>0.069774</td>\n",
              "    </tr>\n",
              "    <tr>\n",
              "      <th>118</th>\n",
              "      <td>Montenegro</td>\n",
              "      <td>0.064744</td>\n",
              "    </tr>\n",
              "    <tr>\n",
              "      <th>12</th>\n",
              "      <td>Bahrain</td>\n",
              "      <td>0.062598</td>\n",
              "    </tr>\n",
              "    <tr>\n",
              "      <th>139</th>\n",
              "      <td>Qatar</td>\n",
              "      <td>0.060169</td>\n",
              "    </tr>\n",
              "    <tr>\n",
              "      <th>147</th>\n",
              "      <td>San Marino</td>\n",
              "      <td>0.059432</td>\n",
              "    </tr>\n",
              "    <tr>\n",
              "      <th>46</th>\n",
              "      <td>Czechia</td>\n",
              "      <td>0.053927</td>\n",
              "    </tr>\n",
              "    <tr>\n",
              "      <th>16</th>\n",
              "      <td>Belgium</td>\n",
              "      <td>0.052465</td>\n",
              "    </tr>\n",
              "    <tr>\n",
              "      <th>177</th>\n",
              "      <td>US</td>\n",
              "      <td>0.048527</td>\n",
              "    </tr>\n",
              "    <tr>\n",
              "      <th>7</th>\n",
              "      <td>Armenia</td>\n",
              "      <td>0.048263</td>\n",
              "    </tr>\n",
              "  </tbody>\n",
              "</table>\n",
              "</div>"
            ],
            "text/plain": [
              "    Country/Region  Confirmed_cases_per_capita\n",
              "3          Andorra                    0.105285\n",
              "103     Luxembourg                    0.069774\n",
              "118     Montenegro                    0.064744\n",
              "12         Bahrain                    0.062598\n",
              "139          Qatar                    0.060169\n",
              "147     San Marino                    0.059432\n",
              "46         Czechia                    0.053927\n",
              "16         Belgium                    0.052465\n",
              "177             US                    0.048527\n",
              "7          Armenia                    0.048263"
            ]
          },
          "metadata": {
            "tags": []
          },
          "execution_count": 317
        }
      ]
    },
    {
      "cell_type": "markdown",
      "metadata": {
        "id": "4b0cTVCLTnlY"
      },
      "source": [
        "## **8. In this part we would like to test the hypothesis that the spread of the virus is slowed down by warm weather. Plot a graph of the monthly number of confirmed cases vs. the average monthly temperature for a few selected countries, and analyze the correlation between these two factors. You may use the file climate.json which contains monthly climate date from over 100 stations around the world, or you can use your own data sources.**"
      ]
    },
    {
      "cell_type": "markdown",
      "metadata": {
        "id": "ZLrru5V9H2v8"
      },
      "source": [
        "Let's observed the Trend for top 10 Countries with most Confirmed Cases"
      ]
    },
    {
      "cell_type": "code",
      "metadata": {
        "colab": {
          "base_uri": "https://localhost:8080/",
          "height": 669
        },
        "id": "59-Cb6nyH1Wv",
        "outputId": "d501110e-9e07-4d11-cf2a-5d59b83e5e3b"
      },
      "source": [
        "df_2_1 # DataFrame which holds the countries with Most COnfirmed Cases Top 20\r\n",
        "# pd.merge(left= df_2_1, right = climate_data , how='left', left_on='Country/Region', right_on = \"country\")"
      ],
      "execution_count": null,
      "outputs": [
        {
          "output_type": "execute_result",
          "data": {
            "text/html": [
              "<div>\n",
              "<style scoped>\n",
              "    .dataframe tbody tr th:only-of-type {\n",
              "        vertical-align: middle;\n",
              "    }\n",
              "\n",
              "    .dataframe tbody tr th {\n",
              "        vertical-align: top;\n",
              "    }\n",
              "\n",
              "    .dataframe thead th {\n",
              "        text-align: right;\n",
              "    }\n",
              "</style>\n",
              "<table border=\"1\" class=\"dataframe\">\n",
              "  <thead>\n",
              "    <tr style=\"text-align: right;\">\n",
              "      <th></th>\n",
              "      <th>Date</th>\n",
              "      <th>Country/Region</th>\n",
              "      <th>Confirmed</th>\n",
              "      <th>Deaths</th>\n",
              "      <th>Recovered</th>\n",
              "      <th>Case_Fatality_Ratio</th>\n",
              "    </tr>\n",
              "  </thead>\n",
              "  <tbody>\n",
              "    <tr>\n",
              "      <th>62061</th>\n",
              "      <td>2020-12-11</td>\n",
              "      <td>US</td>\n",
              "      <td>15842789</td>\n",
              "      <td>295450</td>\n",
              "      <td>6135314.0</td>\n",
              "      <td>1.864886</td>\n",
              "    </tr>\n",
              "    <tr>\n",
              "      <th>61963</th>\n",
              "      <td>2020-12-11</td>\n",
              "      <td>India</td>\n",
              "      <td>9826775</td>\n",
              "      <td>142628</td>\n",
              "      <td>9324328.0</td>\n",
              "      <td>1.451422</td>\n",
              "    </tr>\n",
              "    <tr>\n",
              "      <th>61907</th>\n",
              "      <td>2020-12-11</td>\n",
              "      <td>Brazil</td>\n",
              "      <td>6836227</td>\n",
              "      <td>180437</td>\n",
              "      <td>6078287.0</td>\n",
              "      <td>2.639424</td>\n",
              "    </tr>\n",
              "    <tr>\n",
              "      <th>62025</th>\n",
              "      <td>2020-12-11</td>\n",
              "      <td>Russia</td>\n",
              "      <td>2574319</td>\n",
              "      <td>45370</td>\n",
              "      <td>2041006.0</td>\n",
              "      <td>1.762408</td>\n",
              "    </tr>\n",
              "    <tr>\n",
              "      <th>61946</th>\n",
              "      <td>2020-12-11</td>\n",
              "      <td>France</td>\n",
              "      <td>2405210</td>\n",
              "      <td>57671</td>\n",
              "      <td>181581.0</td>\n",
              "      <td>2.397753</td>\n",
              "    </tr>\n",
              "    <tr>\n",
              "      <th>62065</th>\n",
              "      <td>2020-12-11</td>\n",
              "      <td>United Kingdom</td>\n",
              "      <td>1814395</td>\n",
              "      <td>63603</td>\n",
              "      <td>3799.0</td>\n",
              "      <td>3.505466</td>\n",
              "    </tr>\n",
              "    <tr>\n",
              "      <th>61969</th>\n",
              "      <td>2020-12-11</td>\n",
              "      <td>Italy</td>\n",
              "      <td>1805873</td>\n",
              "      <td>63387</td>\n",
              "      <td>1052163.0</td>\n",
              "      <td>3.510047</td>\n",
              "    </tr>\n",
              "    <tr>\n",
              "      <th>62060</th>\n",
              "      <td>2020-12-11</td>\n",
              "      <td>Turkey</td>\n",
              "      <td>1780673</td>\n",
              "      <td>15977</td>\n",
              "      <td>458109.0</td>\n",
              "      <td>0.897245</td>\n",
              "    </tr>\n",
              "    <tr>\n",
              "      <th>62045</th>\n",
              "      <td>2020-12-11</td>\n",
              "      <td>Spain</td>\n",
              "      <td>1730575</td>\n",
              "      <td>47624</td>\n",
              "      <td>150376.0</td>\n",
              "      <td>2.751918</td>\n",
              "    </tr>\n",
              "    <tr>\n",
              "      <th>61890</th>\n",
              "      <td>2020-12-11</td>\n",
              "      <td>Argentina</td>\n",
              "      <td>1489328</td>\n",
              "      <td>40606</td>\n",
              "      <td>1324792.0</td>\n",
              "      <td>2.726465</td>\n",
              "    </tr>\n",
              "    <tr>\n",
              "      <th>61921</th>\n",
              "      <td>2020-12-11</td>\n",
              "      <td>Colombia</td>\n",
              "      <td>1408909</td>\n",
              "      <td>38669</td>\n",
              "      <td>1304299.0</td>\n",
              "      <td>2.744606</td>\n",
              "    </tr>\n",
              "    <tr>\n",
              "      <th>61950</th>\n",
              "      <td>2020-12-11</td>\n",
              "      <td>Germany</td>\n",
              "      <td>1314309</td>\n",
              "      <td>21567</td>\n",
              "      <td>966238.0</td>\n",
              "      <td>1.640938</td>\n",
              "    </tr>\n",
              "    <tr>\n",
              "      <th>61998</th>\n",
              "      <td>2020-12-11</td>\n",
              "      <td>Mexico</td>\n",
              "      <td>1229379</td>\n",
              "      <td>113019</td>\n",
              "      <td>904042.0</td>\n",
              "      <td>9.193178</td>\n",
              "    </tr>\n",
              "    <tr>\n",
              "      <th>62021</th>\n",
              "      <td>2020-12-11</td>\n",
              "      <td>Poland</td>\n",
              "      <td>1115201</td>\n",
              "      <td>22174</td>\n",
              "      <td>815356.0</td>\n",
              "      <td>1.988341</td>\n",
              "    </tr>\n",
              "    <tr>\n",
              "      <th>61965</th>\n",
              "      <td>2020-12-11</td>\n",
              "      <td>Iran</td>\n",
              "      <td>1092407</td>\n",
              "      <td>51727</td>\n",
              "      <td>787853.0</td>\n",
              "      <td>4.735140</td>\n",
              "    </tr>\n",
              "    <tr>\n",
              "      <th>62019</th>\n",
              "      <td>2020-12-11</td>\n",
              "      <td>Peru</td>\n",
              "      <td>979111</td>\n",
              "      <td>36499</td>\n",
              "      <td>914600.0</td>\n",
              "      <td>3.727769</td>\n",
              "    </tr>\n",
              "    <tr>\n",
              "      <th>62063</th>\n",
              "      <td>2020-12-11</td>\n",
              "      <td>Ukraine</td>\n",
              "      <td>895620</td>\n",
              "      <td>15278</td>\n",
              "      <td>499182.0</td>\n",
              "      <td>1.705857</td>\n",
              "    </tr>\n",
              "    <tr>\n",
              "      <th>62043</th>\n",
              "      <td>2020-12-11</td>\n",
              "      <td>South Africa</td>\n",
              "      <td>845083</td>\n",
              "      <td>22952</td>\n",
              "      <td>758373.0</td>\n",
              "      <td>2.715946</td>\n",
              "    </tr>\n",
              "    <tr>\n",
              "      <th>61964</th>\n",
              "      <td>2020-12-11</td>\n",
              "      <td>Indonesia</td>\n",
              "      <td>605243</td>\n",
              "      <td>18511</td>\n",
              "      <td>496886.0</td>\n",
              "      <td>3.058441</td>\n",
              "    </tr>\n",
              "    <tr>\n",
              "      <th>62007</th>\n",
              "      <td>2020-12-11</td>\n",
              "      <td>Netherlands</td>\n",
              "      <td>604452</td>\n",
              "      <td>10051</td>\n",
              "      <td>7747.0</td>\n",
              "      <td>1.662828</td>\n",
              "    </tr>\n",
              "  </tbody>\n",
              "</table>\n",
              "</div>"
            ],
            "text/plain": [
              "            Date  Country/Region  ...  Recovered  Case_Fatality_Ratio\n",
              "62061 2020-12-11              US  ...  6135314.0             1.864886\n",
              "61963 2020-12-11           India  ...  9324328.0             1.451422\n",
              "61907 2020-12-11          Brazil  ...  6078287.0             2.639424\n",
              "62025 2020-12-11          Russia  ...  2041006.0             1.762408\n",
              "61946 2020-12-11          France  ...   181581.0             2.397753\n",
              "62065 2020-12-11  United Kingdom  ...     3799.0             3.505466\n",
              "61969 2020-12-11           Italy  ...  1052163.0             3.510047\n",
              "62060 2020-12-11          Turkey  ...   458109.0             0.897245\n",
              "62045 2020-12-11           Spain  ...   150376.0             2.751918\n",
              "61890 2020-12-11       Argentina  ...  1324792.0             2.726465\n",
              "61921 2020-12-11        Colombia  ...  1304299.0             2.744606\n",
              "61950 2020-12-11         Germany  ...   966238.0             1.640938\n",
              "61998 2020-12-11          Mexico  ...   904042.0             9.193178\n",
              "62021 2020-12-11          Poland  ...   815356.0             1.988341\n",
              "61965 2020-12-11            Iran  ...   787853.0             4.735140\n",
              "62019 2020-12-11            Peru  ...   914600.0             3.727769\n",
              "62063 2020-12-11         Ukraine  ...   499182.0             1.705857\n",
              "62043 2020-12-11    South Africa  ...   758373.0             2.715946\n",
              "61964 2020-12-11       Indonesia  ...   496886.0             3.058441\n",
              "62007 2020-12-11     Netherlands  ...     7747.0             1.662828\n",
              "\n",
              "[20 rows x 6 columns]"
            ]
          },
          "metadata": {
            "tags": []
          },
          "execution_count": 318
        }
      ]
    },
    {
      "cell_type": "code",
      "metadata": {
        "colab": {
          "base_uri": "https://localhost:8080/",
          "height": 419
        },
        "id": "gGYORzFfRq1t",
        "outputId": "cac087fb-e752-425d-c224-fa7e3ac69d21"
      },
      "source": [
        "climate_data = pd.read_json('/content/climate.json')\r\n",
        "climate_data"
      ],
      "execution_count": null,
      "outputs": [
        {
          "output_type": "execute_result",
          "data": {
            "text/html": [
              "<div>\n",
              "<style scoped>\n",
              "    .dataframe tbody tr th:only-of-type {\n",
              "        vertical-align: middle;\n",
              "    }\n",
              "\n",
              "    .dataframe tbody tr th {\n",
              "        vertical-align: top;\n",
              "    }\n",
              "\n",
              "    .dataframe thead th {\n",
              "        text-align: right;\n",
              "    }\n",
              "</style>\n",
              "<table border=\"1\" class=\"dataframe\">\n",
              "  <thead>\n",
              "    <tr style=\"text-align: right;\">\n",
              "      <th></th>\n",
              "      <th>id</th>\n",
              "      <th>city</th>\n",
              "      <th>country</th>\n",
              "      <th>monthlyAvg</th>\n",
              "    </tr>\n",
              "  </thead>\n",
              "  <tbody>\n",
              "    <tr>\n",
              "      <th>0</th>\n",
              "      <td>1</td>\n",
              "      <td>Amsterdam</td>\n",
              "      <td>Netherlands</td>\n",
              "      <td>[{'high': 7, 'low': 3, 'dryDays': 19, 'snowDay...</td>\n",
              "    </tr>\n",
              "    <tr>\n",
              "      <th>1</th>\n",
              "      <td>2</td>\n",
              "      <td>Athens</td>\n",
              "      <td>Greece</td>\n",
              "      <td>[{'high': 12, 'low': 7, 'dryDays': 21, 'snowDa...</td>\n",
              "    </tr>\n",
              "    <tr>\n",
              "      <th>2</th>\n",
              "      <td>3</td>\n",
              "      <td>Atlanta GA</td>\n",
              "      <td>United States</td>\n",
              "      <td>[{'high': 12, 'low': 2, 'dryDays': 18, 'snowDa...</td>\n",
              "    </tr>\n",
              "    <tr>\n",
              "      <th>3</th>\n",
              "      <td>4</td>\n",
              "      <td>Auckland</td>\n",
              "      <td>New Zealand</td>\n",
              "      <td>[{'high': 23, 'low': 16, 'dryDays': 24, 'snowD...</td>\n",
              "    </tr>\n",
              "    <tr>\n",
              "      <th>4</th>\n",
              "      <td>5</td>\n",
              "      <td>Austin TX</td>\n",
              "      <td>United States</td>\n",
              "      <td>[{'high': 18, 'low': 6, 'dryDays': 15, 'snowDa...</td>\n",
              "    </tr>\n",
              "    <tr>\n",
              "      <th>...</th>\n",
              "      <td>...</td>\n",
              "      <td>...</td>\n",
              "      <td>...</td>\n",
              "      <td>...</td>\n",
              "    </tr>\n",
              "    <tr>\n",
              "      <th>100</th>\n",
              "      <td>101</td>\n",
              "      <td>Albuquerque NM</td>\n",
              "      <td>United States</td>\n",
              "      <td>[{'high': 10, 'low': -4, 'dryDays': 24, 'snowD...</td>\n",
              "    </tr>\n",
              "    <tr>\n",
              "      <th>101</th>\n",
              "      <td>102</td>\n",
              "      <td>Vermont IL</td>\n",
              "      <td>United States</td>\n",
              "      <td>[{'high': 3, 'low': -8, 'dryDays': 18, 'snowDa...</td>\n",
              "    </tr>\n",
              "    <tr>\n",
              "      <th>102</th>\n",
              "      <td>103</td>\n",
              "      <td>Nashville TE</td>\n",
              "      <td>United States</td>\n",
              "      <td>[{'high': 9, 'low': -1, 'dryDays': 18, 'snowDa...</td>\n",
              "    </tr>\n",
              "    <tr>\n",
              "      <th>103</th>\n",
              "      <td>104</td>\n",
              "      <td>St. Louis MO</td>\n",
              "      <td>United States</td>\n",
              "      <td>[{'high': 7, 'low': -4, 'dryDays': 16, 'snowDa...</td>\n",
              "    </tr>\n",
              "    <tr>\n",
              "      <th>104</th>\n",
              "      <td>105</td>\n",
              "      <td>Minneapolis MN</td>\n",
              "      <td>United States</td>\n",
              "      <td>[{'high': -3, 'low': -13, 'dryDays': 20, 'snow...</td>\n",
              "    </tr>\n",
              "  </tbody>\n",
              "</table>\n",
              "<p>105 rows × 4 columns</p>\n",
              "</div>"
            ],
            "text/plain": [
              "      id  ...                                         monthlyAvg\n",
              "0      1  ...  [{'high': 7, 'low': 3, 'dryDays': 19, 'snowDay...\n",
              "1      2  ...  [{'high': 12, 'low': 7, 'dryDays': 21, 'snowDa...\n",
              "2      3  ...  [{'high': 12, 'low': 2, 'dryDays': 18, 'snowDa...\n",
              "3      4  ...  [{'high': 23, 'low': 16, 'dryDays': 24, 'snowD...\n",
              "4      5  ...  [{'high': 18, 'low': 6, 'dryDays': 15, 'snowDa...\n",
              "..   ...  ...                                                ...\n",
              "100  101  ...  [{'high': 10, 'low': -4, 'dryDays': 24, 'snowD...\n",
              "101  102  ...  [{'high': 3, 'low': -8, 'dryDays': 18, 'snowDa...\n",
              "102  103  ...  [{'high': 9, 'low': -1, 'dryDays': 18, 'snowDa...\n",
              "103  104  ...  [{'high': 7, 'low': -4, 'dryDays': 16, 'snowDa...\n",
              "104  105  ...  [{'high': -3, 'low': -13, 'dryDays': 20, 'snow...\n",
              "\n",
              "[105 rows x 4 columns]"
            ]
          },
          "metadata": {
            "tags": []
          },
          "execution_count": 319
        }
      ]
    },
    {
      "cell_type": "code",
      "metadata": {
        "id": "MZssLjUCUChb"
      },
      "source": [
        "li = climate_data['monthlyAvg'].values.tolist()"
      ],
      "execution_count": null,
      "outputs": []
    },
    {
      "cell_type": "code",
      "metadata": {
        "colab": {
          "base_uri": "https://localhost:8080/",
          "height": 453
        },
        "id": "_DsYmXeeHSOF",
        "outputId": "52d3ca9c-50c8-415f-e04b-fd0ea5416b48"
      },
      "source": [
        "import simplejson as json\r\n",
        "from pandas.io.json import json_normalize\r\n",
        "with open('/content/climate.json','r') as f:\r\n",
        "    data = json.loads(f.read())\r\n",
        "\r\n",
        "temp_data =json_normalize(data, record_path =['monthlyAvg'], meta =['id','city','country'])\r\n",
        "temp_data.replace(\"United States\",\"US\")\r\n",
        "temp_data[['high','country','city']]"
      ],
      "execution_count": null,
      "outputs": [
        {
          "output_type": "stream",
          "text": [
            "/usr/local/lib/python3.6/dist-packages/ipykernel_launcher.py:6: FutureWarning: pandas.io.json.json_normalize is deprecated, use pandas.json_normalize instead\n",
            "  \n"
          ],
          "name": "stderr"
        },
        {
          "output_type": "execute_result",
          "data": {
            "text/html": [
              "<div>\n",
              "<style scoped>\n",
              "    .dataframe tbody tr th:only-of-type {\n",
              "        vertical-align: middle;\n",
              "    }\n",
              "\n",
              "    .dataframe tbody tr th {\n",
              "        vertical-align: top;\n",
              "    }\n",
              "\n",
              "    .dataframe thead th {\n",
              "        text-align: right;\n",
              "    }\n",
              "</style>\n",
              "<table border=\"1\" class=\"dataframe\">\n",
              "  <thead>\n",
              "    <tr style=\"text-align: right;\">\n",
              "      <th></th>\n",
              "      <th>high</th>\n",
              "      <th>country</th>\n",
              "      <th>city</th>\n",
              "    </tr>\n",
              "  </thead>\n",
              "  <tbody>\n",
              "    <tr>\n",
              "      <th>0</th>\n",
              "      <td>7</td>\n",
              "      <td>Netherlands</td>\n",
              "      <td>Amsterdam</td>\n",
              "    </tr>\n",
              "    <tr>\n",
              "      <th>1</th>\n",
              "      <td>6</td>\n",
              "      <td>Netherlands</td>\n",
              "      <td>Amsterdam</td>\n",
              "    </tr>\n",
              "    <tr>\n",
              "      <th>2</th>\n",
              "      <td>10</td>\n",
              "      <td>Netherlands</td>\n",
              "      <td>Amsterdam</td>\n",
              "    </tr>\n",
              "    <tr>\n",
              "      <th>3</th>\n",
              "      <td>11</td>\n",
              "      <td>Netherlands</td>\n",
              "      <td>Amsterdam</td>\n",
              "    </tr>\n",
              "    <tr>\n",
              "      <th>4</th>\n",
              "      <td>16</td>\n",
              "      <td>Netherlands</td>\n",
              "      <td>Amsterdam</td>\n",
              "    </tr>\n",
              "    <tr>\n",
              "      <th>...</th>\n",
              "      <td>...</td>\n",
              "      <td>...</td>\n",
              "      <td>...</td>\n",
              "    </tr>\n",
              "    <tr>\n",
              "      <th>1255</th>\n",
              "      <td>28</td>\n",
              "      <td>United States</td>\n",
              "      <td>Minneapolis MN</td>\n",
              "    </tr>\n",
              "    <tr>\n",
              "      <th>1256</th>\n",
              "      <td>24</td>\n",
              "      <td>United States</td>\n",
              "      <td>Minneapolis MN</td>\n",
              "    </tr>\n",
              "    <tr>\n",
              "      <th>1257</th>\n",
              "      <td>16</td>\n",
              "      <td>United States</td>\n",
              "      <td>Minneapolis MN</td>\n",
              "    </tr>\n",
              "    <tr>\n",
              "      <th>1258</th>\n",
              "      <td>6</td>\n",
              "      <td>United States</td>\n",
              "      <td>Minneapolis MN</td>\n",
              "    </tr>\n",
              "    <tr>\n",
              "      <th>1259</th>\n",
              "      <td>-1</td>\n",
              "      <td>United States</td>\n",
              "      <td>Minneapolis MN</td>\n",
              "    </tr>\n",
              "  </tbody>\n",
              "</table>\n",
              "<p>1260 rows × 3 columns</p>\n",
              "</div>"
            ],
            "text/plain": [
              "      high        country            city\n",
              "0        7    Netherlands       Amsterdam\n",
              "1        6    Netherlands       Amsterdam\n",
              "2       10    Netherlands       Amsterdam\n",
              "3       11    Netherlands       Amsterdam\n",
              "4       16    Netherlands       Amsterdam\n",
              "...    ...            ...             ...\n",
              "1255    28  United States  Minneapolis MN\n",
              "1256    24  United States  Minneapolis MN\n",
              "1257    16  United States  Minneapolis MN\n",
              "1258     6  United States  Minneapolis MN\n",
              "1259    -1  United States  Minneapolis MN\n",
              "\n",
              "[1260 rows x 3 columns]"
            ]
          },
          "metadata": {
            "tags": []
          },
          "execution_count": 328
        }
      ]
    },
    {
      "cell_type": "markdown",
      "metadata": {
        "id": "eY_y_09oaddm"
      },
      "source": [
        "## Finding the Confirmed Cases for US by Month"
      ]
    },
    {
      "cell_type": "code",
      "metadata": {
        "colab": {
          "base_uri": "https://localhost:8080/",
          "height": 421
        },
        "id": "SUShlt9BKnQP",
        "outputId": "21abec59-d45e-4368-eca5-ffbb3feb065f"
      },
      "source": [
        "df_US = df_1[df_1[\"Country/Region\"]==\"US\"][[\"Date\",\"Country/Region\",\"Confirmed\"]]\r\n",
        "\r\n",
        "x = df_US.reset_index()\r\n",
        "new_li = [1]\r\n",
        "\r\n",
        "li = x[\"Confirmed\"]\r\n",
        "for i in range(1,x.shape[0]):\r\n",
        "    temp = abs(li[i] - li[i-1])\r\n",
        "    new_li.append(temp)\r\n",
        "df_US[\"New_Confirmed_per_day\"] = new_li\r\n",
        "\r\n",
        "df_US.Date = pd.to_datetime(df_US.Date)\r\n",
        "US_Data = df_US.groupby(pd.Grouper(key='Date', freq='1M')).agg({\"New_Confirmed_per_day\":'sum'}) # groupby each 1 month\r\n",
        "US_Data[\"Country\"] = \"US\"\r\n",
        "\r\n",
        "us_data = US_Data.reset_index()\r\n",
        "us_data[\"Month\"] = pd.to_datetime(us_data['Date']).dt.to_period('M')\r\n",
        "us_data"
      ],
      "execution_count": null,
      "outputs": [
        {
          "output_type": "execute_result",
          "data": {
            "text/html": [
              "<div>\n",
              "<style scoped>\n",
              "    .dataframe tbody tr th:only-of-type {\n",
              "        vertical-align: middle;\n",
              "    }\n",
              "\n",
              "    .dataframe tbody tr th {\n",
              "        vertical-align: top;\n",
              "    }\n",
              "\n",
              "    .dataframe thead th {\n",
              "        text-align: right;\n",
              "    }\n",
              "</style>\n",
              "<table border=\"1\" class=\"dataframe\">\n",
              "  <thead>\n",
              "    <tr style=\"text-align: right;\">\n",
              "      <th></th>\n",
              "      <th>Date</th>\n",
              "      <th>New_Confirmed_per_day</th>\n",
              "      <th>Country</th>\n",
              "      <th>Month</th>\n",
              "    </tr>\n",
              "  </thead>\n",
              "  <tbody>\n",
              "    <tr>\n",
              "      <th>0</th>\n",
              "      <td>2020-01-31</td>\n",
              "      <td>8</td>\n",
              "      <td>US</td>\n",
              "      <td>2020-01</td>\n",
              "    </tr>\n",
              "    <tr>\n",
              "      <th>1</th>\n",
              "      <td>2020-02-29</td>\n",
              "      <td>17</td>\n",
              "      <td>US</td>\n",
              "      <td>2020-02</td>\n",
              "    </tr>\n",
              "    <tr>\n",
              "      <th>2</th>\n",
              "      <td>2020-03-31</td>\n",
              "      <td>192152</td>\n",
              "      <td>US</td>\n",
              "      <td>2020-03</td>\n",
              "    </tr>\n",
              "    <tr>\n",
              "      <th>3</th>\n",
              "      <td>2020-04-30</td>\n",
              "      <td>884047</td>\n",
              "      <td>US</td>\n",
              "      <td>2020-04</td>\n",
              "    </tr>\n",
              "    <tr>\n",
              "      <th>4</th>\n",
              "      <td>2020-05-31</td>\n",
              "      <td>718241</td>\n",
              "      <td>US</td>\n",
              "      <td>2020-05</td>\n",
              "    </tr>\n",
              "    <tr>\n",
              "      <th>5</th>\n",
              "      <td>2020-06-30</td>\n",
              "      <td>834359</td>\n",
              "      <td>US</td>\n",
              "      <td>2020-06</td>\n",
              "    </tr>\n",
              "    <tr>\n",
              "      <th>6</th>\n",
              "      <td>2020-07-31</td>\n",
              "      <td>1922730</td>\n",
              "      <td>US</td>\n",
              "      <td>2020-07</td>\n",
              "    </tr>\n",
              "    <tr>\n",
              "      <th>7</th>\n",
              "      <td>2020-08-31</td>\n",
              "      <td>1464676</td>\n",
              "      <td>US</td>\n",
              "      <td>2020-08</td>\n",
              "    </tr>\n",
              "    <tr>\n",
              "      <th>8</th>\n",
              "      <td>2020-09-30</td>\n",
              "      <td>1201822</td>\n",
              "      <td>US</td>\n",
              "      <td>2020-09</td>\n",
              "    </tr>\n",
              "    <tr>\n",
              "      <th>9</th>\n",
              "      <td>2020-10-31</td>\n",
              "      <td>1915046</td>\n",
              "      <td>US</td>\n",
              "      <td>2020-10</td>\n",
              "    </tr>\n",
              "    <tr>\n",
              "      <th>10</th>\n",
              "      <td>2020-11-30</td>\n",
              "      <td>4408087</td>\n",
              "      <td>US</td>\n",
              "      <td>2020-11</td>\n",
              "    </tr>\n",
              "    <tr>\n",
              "      <th>11</th>\n",
              "      <td>2020-12-31</td>\n",
              "      <td>2301604</td>\n",
              "      <td>US</td>\n",
              "      <td>2020-12</td>\n",
              "    </tr>\n",
              "  </tbody>\n",
              "</table>\n",
              "</div>"
            ],
            "text/plain": [
              "         Date  New_Confirmed_per_day Country    Month\n",
              "0  2020-01-31                      8      US  2020-01\n",
              "1  2020-02-29                     17      US  2020-02\n",
              "2  2020-03-31                 192152      US  2020-03\n",
              "3  2020-04-30                 884047      US  2020-04\n",
              "4  2020-05-31                 718241      US  2020-05\n",
              "5  2020-06-30                 834359      US  2020-06\n",
              "6  2020-07-31                1922730      US  2020-07\n",
              "7  2020-08-31                1464676      US  2020-08\n",
              "8  2020-09-30                1201822      US  2020-09\n",
              "9  2020-10-31                1915046      US  2020-10\n",
              "10 2020-11-30                4408087      US  2020-11\n",
              "11 2020-12-31                2301604      US  2020-12"
            ]
          },
          "metadata": {
            "tags": []
          },
          "execution_count": 329
        }
      ]
    },
    {
      "cell_type": "code",
      "metadata": {
        "colab": {
          "base_uri": "https://localhost:8080/",
          "height": 421
        },
        "id": "rzxXcNwzO648",
        "outputId": "6a055036-886c-4e35-f9c6-4e0a245b7a1a"
      },
      "source": [
        "## Filtering temperature data for 12 Months For New York City In United States\r\n",
        "\r\n",
        "temp_data_1 = temp_data[temp_data['city'] == \"New York City NY\"]\r\n",
        "# new_temp_data = temp_data.reset_index()\r\n",
        "new_data = temp_data_1.replace(\"United States\",\"US\")\r\n",
        "final_temp_data = new_data.reset_index()\r\n",
        "final_temp_data[\"Month\"] = us_data.Month\r\n",
        "final_temp_data[\"Confirmed_Cases\"] = us_data[\"New_Confirmed_per_day\"]\r\n",
        "final_temp_data"
      ],
      "execution_count": null,
      "outputs": [
        {
          "output_type": "execute_result",
          "data": {
            "text/html": [
              "<div>\n",
              "<style scoped>\n",
              "    .dataframe tbody tr th:only-of-type {\n",
              "        vertical-align: middle;\n",
              "    }\n",
              "\n",
              "    .dataframe tbody tr th {\n",
              "        vertical-align: top;\n",
              "    }\n",
              "\n",
              "    .dataframe thead th {\n",
              "        text-align: right;\n",
              "    }\n",
              "</style>\n",
              "<table border=\"1\" class=\"dataframe\">\n",
              "  <thead>\n",
              "    <tr style=\"text-align: right;\">\n",
              "      <th></th>\n",
              "      <th>index</th>\n",
              "      <th>high</th>\n",
              "      <th>low</th>\n",
              "      <th>dryDays</th>\n",
              "      <th>snowDays</th>\n",
              "      <th>rainfall</th>\n",
              "      <th>id</th>\n",
              "      <th>city</th>\n",
              "      <th>country</th>\n",
              "      <th>Month</th>\n",
              "      <th>Confirmed_Cases</th>\n",
              "    </tr>\n",
              "  </thead>\n",
              "  <tbody>\n",
              "    <tr>\n",
              "      <th>0</th>\n",
              "      <td>672</td>\n",
              "      <td>6</td>\n",
              "      <td>-3</td>\n",
              "      <td>16</td>\n",
              "      <td>8.0</td>\n",
              "      <td>85.4</td>\n",
              "      <td>57</td>\n",
              "      <td>New York City NY</td>\n",
              "      <td>US</td>\n",
              "      <td>2020-01</td>\n",
              "      <td>8</td>\n",
              "    </tr>\n",
              "    <tr>\n",
              "      <th>1</th>\n",
              "      <td>673</td>\n",
              "      <td>7</td>\n",
              "      <td>-3</td>\n",
              "      <td>15</td>\n",
              "      <td>6.0</td>\n",
              "      <td>57.0</td>\n",
              "      <td>57</td>\n",
              "      <td>New York City NY</td>\n",
              "      <td>US</td>\n",
              "      <td>2020-02</td>\n",
              "      <td>17</td>\n",
              "    </tr>\n",
              "    <tr>\n",
              "      <th>2</th>\n",
              "      <td>674</td>\n",
              "      <td>10</td>\n",
              "      <td>0</td>\n",
              "      <td>16</td>\n",
              "      <td>5.0</td>\n",
              "      <td>98.6</td>\n",
              "      <td>57</td>\n",
              "      <td>New York City NY</td>\n",
              "      <td>US</td>\n",
              "      <td>2020-03</td>\n",
              "      <td>192152</td>\n",
              "    </tr>\n",
              "    <tr>\n",
              "      <th>3</th>\n",
              "      <td>675</td>\n",
              "      <td>16</td>\n",
              "      <td>6</td>\n",
              "      <td>13</td>\n",
              "      <td>1.0</td>\n",
              "      <td>95.9</td>\n",
              "      <td>57</td>\n",
              "      <td>New York City NY</td>\n",
              "      <td>US</td>\n",
              "      <td>2020-04</td>\n",
              "      <td>884047</td>\n",
              "    </tr>\n",
              "    <tr>\n",
              "      <th>4</th>\n",
              "      <td>676</td>\n",
              "      <td>21</td>\n",
              "      <td>11</td>\n",
              "      <td>14</td>\n",
              "      <td>0.0</td>\n",
              "      <td>102.7</td>\n",
              "      <td>57</td>\n",
              "      <td>New York City NY</td>\n",
              "      <td>US</td>\n",
              "      <td>2020-05</td>\n",
              "      <td>718241</td>\n",
              "    </tr>\n",
              "    <tr>\n",
              "      <th>5</th>\n",
              "      <td>677</td>\n",
              "      <td>27</td>\n",
              "      <td>17</td>\n",
              "      <td>15</td>\n",
              "      <td>0.0</td>\n",
              "      <td>98.1</td>\n",
              "      <td>57</td>\n",
              "      <td>New York City NY</td>\n",
              "      <td>US</td>\n",
              "      <td>2020-06</td>\n",
              "      <td>834359</td>\n",
              "    </tr>\n",
              "    <tr>\n",
              "      <th>6</th>\n",
              "      <td>678</td>\n",
              "      <td>29</td>\n",
              "      <td>20</td>\n",
              "      <td>17</td>\n",
              "      <td>0.0</td>\n",
              "      <td>101.4</td>\n",
              "      <td>57</td>\n",
              "      <td>New York City NY</td>\n",
              "      <td>US</td>\n",
              "      <td>2020-07</td>\n",
              "      <td>1922730</td>\n",
              "    </tr>\n",
              "    <tr>\n",
              "      <th>7</th>\n",
              "      <td>679</td>\n",
              "      <td>29</td>\n",
              "      <td>19</td>\n",
              "      <td>18</td>\n",
              "      <td>0.0</td>\n",
              "      <td>113.6</td>\n",
              "      <td>57</td>\n",
              "      <td>New York City NY</td>\n",
              "      <td>US</td>\n",
              "      <td>2020-08</td>\n",
              "      <td>1464676</td>\n",
              "    </tr>\n",
              "    <tr>\n",
              "      <th>8</th>\n",
              "      <td>680</td>\n",
              "      <td>25</td>\n",
              "      <td>16</td>\n",
              "      <td>18</td>\n",
              "      <td>0.0</td>\n",
              "      <td>108.2</td>\n",
              "      <td>57</td>\n",
              "      <td>New York City NY</td>\n",
              "      <td>US</td>\n",
              "      <td>2020-09</td>\n",
              "      <td>1201822</td>\n",
              "    </tr>\n",
              "    <tr>\n",
              "      <th>9</th>\n",
              "      <td>681</td>\n",
              "      <td>19</td>\n",
              "      <td>10</td>\n",
              "      <td>19</td>\n",
              "      <td>0.0</td>\n",
              "      <td>96.9</td>\n",
              "      <td>57</td>\n",
              "      <td>New York City NY</td>\n",
              "      <td>US</td>\n",
              "      <td>2020-10</td>\n",
              "      <td>1915046</td>\n",
              "    </tr>\n",
              "    <tr>\n",
              "      <th>10</th>\n",
              "      <td>682</td>\n",
              "      <td>13</td>\n",
              "      <td>4</td>\n",
              "      <td>16</td>\n",
              "      <td>1.0</td>\n",
              "      <td>85.4</td>\n",
              "      <td>57</td>\n",
              "      <td>New York City NY</td>\n",
              "      <td>US</td>\n",
              "      <td>2020-11</td>\n",
              "      <td>4408087</td>\n",
              "    </tr>\n",
              "    <tr>\n",
              "      <th>11</th>\n",
              "      <td>683</td>\n",
              "      <td>8</td>\n",
              "      <td>-1</td>\n",
              "      <td>16</td>\n",
              "      <td>5.0</td>\n",
              "      <td>87.0</td>\n",
              "      <td>57</td>\n",
              "      <td>New York City NY</td>\n",
              "      <td>US</td>\n",
              "      <td>2020-12</td>\n",
              "      <td>2301604</td>\n",
              "    </tr>\n",
              "  </tbody>\n",
              "</table>\n",
              "</div>"
            ],
            "text/plain": [
              "    index  high  low  ...  country    Month  Confirmed_Cases\n",
              "0     672     6   -3  ...       US  2020-01                8\n",
              "1     673     7   -3  ...       US  2020-02               17\n",
              "2     674    10    0  ...       US  2020-03           192152\n",
              "3     675    16    6  ...       US  2020-04           884047\n",
              "4     676    21   11  ...       US  2020-05           718241\n",
              "5     677    27   17  ...       US  2020-06           834359\n",
              "6     678    29   20  ...       US  2020-07          1922730\n",
              "7     679    29   19  ...       US  2020-08          1464676\n",
              "8     680    25   16  ...       US  2020-09          1201822\n",
              "9     681    19   10  ...       US  2020-10          1915046\n",
              "10    682    13    4  ...       US  2020-11          4408087\n",
              "11    683     8   -1  ...       US  2020-12          2301604\n",
              "\n",
              "[12 rows x 11 columns]"
            ]
          },
          "metadata": {
            "tags": []
          },
          "execution_count": 330
        }
      ]
    },
    {
      "cell_type": "markdown",
      "metadata": {
        "id": "XORHeZrxrqlB"
      },
      "source": [
        "## Finding the Confirmed Cases for India by Month"
      ]
    },
    {
      "cell_type": "code",
      "metadata": {
        "colab": {
          "base_uri": "https://localhost:8080/",
          "height": 421
        },
        "id": "wmas4Mnlq3rL",
        "outputId": "e2dbb33e-5426-462d-9cdd-5204b959b60b"
      },
      "source": [
        "df_ind = df_1[df_1[\"Country/Region\"]==\"US\"][[\"Date\",\"Country/Region\",\"Confirmed\"]]\r\n",
        "x = df_ind.reset_index()\r\n",
        "new_li = [1]\r\n",
        "\r\n",
        "li = x[\"Confirmed\"]\r\n",
        "for i in range(1,x.shape[0]):\r\n",
        "    temp = abs(li[i] - li[i-1])\r\n",
        "    new_li.append(temp)\r\n",
        "df_ind[\"New_Confirmed_per_day\"] = new_li\r\n",
        "\r\n",
        "df_ind.Date = pd.to_datetime(df_ind.Date)\r\n",
        "Ind_Data = df_ind.groupby(pd.Grouper(key='Date', freq='1M')).agg({\"New_Confirmed_per_day\":'sum'}) # groupby each 1 month\r\n",
        "Ind_Data[\"Country\"] = \"India\"\r\n",
        "\r\n",
        "Ind_data = Ind_Data.reset_index()\r\n",
        "Ind_data[\"Month\"] = pd.to_datetime(Ind_data['Date']).dt.to_period('M')\r\n",
        "Ind_data"
      ],
      "execution_count": null,
      "outputs": [
        {
          "output_type": "execute_result",
          "data": {
            "text/html": [
              "<div>\n",
              "<style scoped>\n",
              "    .dataframe tbody tr th:only-of-type {\n",
              "        vertical-align: middle;\n",
              "    }\n",
              "\n",
              "    .dataframe tbody tr th {\n",
              "        vertical-align: top;\n",
              "    }\n",
              "\n",
              "    .dataframe thead th {\n",
              "        text-align: right;\n",
              "    }\n",
              "</style>\n",
              "<table border=\"1\" class=\"dataframe\">\n",
              "  <thead>\n",
              "    <tr style=\"text-align: right;\">\n",
              "      <th></th>\n",
              "      <th>Date</th>\n",
              "      <th>New_Confirmed_per_day</th>\n",
              "      <th>Country</th>\n",
              "      <th>Month</th>\n",
              "    </tr>\n",
              "  </thead>\n",
              "  <tbody>\n",
              "    <tr>\n",
              "      <th>0</th>\n",
              "      <td>2020-01-31</td>\n",
              "      <td>8</td>\n",
              "      <td>India</td>\n",
              "      <td>2020-01</td>\n",
              "    </tr>\n",
              "    <tr>\n",
              "      <th>1</th>\n",
              "      <td>2020-02-29</td>\n",
              "      <td>17</td>\n",
              "      <td>India</td>\n",
              "      <td>2020-02</td>\n",
              "    </tr>\n",
              "    <tr>\n",
              "      <th>2</th>\n",
              "      <td>2020-03-31</td>\n",
              "      <td>192152</td>\n",
              "      <td>India</td>\n",
              "      <td>2020-03</td>\n",
              "    </tr>\n",
              "    <tr>\n",
              "      <th>3</th>\n",
              "      <td>2020-04-30</td>\n",
              "      <td>884047</td>\n",
              "      <td>India</td>\n",
              "      <td>2020-04</td>\n",
              "    </tr>\n",
              "    <tr>\n",
              "      <th>4</th>\n",
              "      <td>2020-05-31</td>\n",
              "      <td>718241</td>\n",
              "      <td>India</td>\n",
              "      <td>2020-05</td>\n",
              "    </tr>\n",
              "    <tr>\n",
              "      <th>5</th>\n",
              "      <td>2020-06-30</td>\n",
              "      <td>834359</td>\n",
              "      <td>India</td>\n",
              "      <td>2020-06</td>\n",
              "    </tr>\n",
              "    <tr>\n",
              "      <th>6</th>\n",
              "      <td>2020-07-31</td>\n",
              "      <td>1922730</td>\n",
              "      <td>India</td>\n",
              "      <td>2020-07</td>\n",
              "    </tr>\n",
              "    <tr>\n",
              "      <th>7</th>\n",
              "      <td>2020-08-31</td>\n",
              "      <td>1464676</td>\n",
              "      <td>India</td>\n",
              "      <td>2020-08</td>\n",
              "    </tr>\n",
              "    <tr>\n",
              "      <th>8</th>\n",
              "      <td>2020-09-30</td>\n",
              "      <td>1201822</td>\n",
              "      <td>India</td>\n",
              "      <td>2020-09</td>\n",
              "    </tr>\n",
              "    <tr>\n",
              "      <th>9</th>\n",
              "      <td>2020-10-31</td>\n",
              "      <td>1915046</td>\n",
              "      <td>India</td>\n",
              "      <td>2020-10</td>\n",
              "    </tr>\n",
              "    <tr>\n",
              "      <th>10</th>\n",
              "      <td>2020-11-30</td>\n",
              "      <td>4408087</td>\n",
              "      <td>India</td>\n",
              "      <td>2020-11</td>\n",
              "    </tr>\n",
              "    <tr>\n",
              "      <th>11</th>\n",
              "      <td>2020-12-31</td>\n",
              "      <td>2301604</td>\n",
              "      <td>India</td>\n",
              "      <td>2020-12</td>\n",
              "    </tr>\n",
              "  </tbody>\n",
              "</table>\n",
              "</div>"
            ],
            "text/plain": [
              "         Date  New_Confirmed_per_day Country    Month\n",
              "0  2020-01-31                      8   India  2020-01\n",
              "1  2020-02-29                     17   India  2020-02\n",
              "2  2020-03-31                 192152   India  2020-03\n",
              "3  2020-04-30                 884047   India  2020-04\n",
              "4  2020-05-31                 718241   India  2020-05\n",
              "5  2020-06-30                 834359   India  2020-06\n",
              "6  2020-07-31                1922730   India  2020-07\n",
              "7  2020-08-31                1464676   India  2020-08\n",
              "8  2020-09-30                1201822   India  2020-09\n",
              "9  2020-10-31                1915046   India  2020-10\n",
              "10 2020-11-30                4408087   India  2020-11\n",
              "11 2020-12-31                2301604   India  2020-12"
            ]
          },
          "metadata": {
            "tags": []
          },
          "execution_count": 331
        }
      ]
    },
    {
      "cell_type": "code",
      "metadata": {
        "colab": {
          "base_uri": "https://localhost:8080/",
          "height": 421
        },
        "id": "ukqlorzKtOfk",
        "outputId": "cf175413-42e5-45ae-ef2b-f07c6057b245"
      },
      "source": [
        "temp_data_ind = temp_data[temp_data['city'] == \"Mumbai\"]\r\n",
        "final_temp_Ind = temp_data_ind.reset_index()\r\n",
        "final_temp_Ind[\"Month\"] = Ind_data.Month\r\n",
        "final_temp_Ind[\"Confirmed_Cases\"] = Ind_data[\"New_Confirmed_per_day\"]\r\n",
        "final_temp_Ind\r\n"
      ],
      "execution_count": null,
      "outputs": [
        {
          "output_type": "execute_result",
          "data": {
            "text/html": [
              "<div>\n",
              "<style scoped>\n",
              "    .dataframe tbody tr th:only-of-type {\n",
              "        vertical-align: middle;\n",
              "    }\n",
              "\n",
              "    .dataframe tbody tr th {\n",
              "        vertical-align: top;\n",
              "    }\n",
              "\n",
              "    .dataframe thead th {\n",
              "        text-align: right;\n",
              "    }\n",
              "</style>\n",
              "<table border=\"1\" class=\"dataframe\">\n",
              "  <thead>\n",
              "    <tr style=\"text-align: right;\">\n",
              "      <th></th>\n",
              "      <th>index</th>\n",
              "      <th>high</th>\n",
              "      <th>low</th>\n",
              "      <th>dryDays</th>\n",
              "      <th>snowDays</th>\n",
              "      <th>rainfall</th>\n",
              "      <th>id</th>\n",
              "      <th>city</th>\n",
              "      <th>country</th>\n",
              "      <th>Month</th>\n",
              "      <th>Confirmed_Cases</th>\n",
              "    </tr>\n",
              "  </thead>\n",
              "  <tbody>\n",
              "    <tr>\n",
              "      <th>0</th>\n",
              "      <td>636</td>\n",
              "      <td>31</td>\n",
              "      <td>17</td>\n",
              "      <td>29</td>\n",
              "      <td>0.0</td>\n",
              "      <td>1.3</td>\n",
              "      <td>54</td>\n",
              "      <td>Mumbai</td>\n",
              "      <td>India</td>\n",
              "      <td>2020-01</td>\n",
              "      <td>8</td>\n",
              "    </tr>\n",
              "    <tr>\n",
              "      <th>1</th>\n",
              "      <td>637</td>\n",
              "      <td>32</td>\n",
              "      <td>18</td>\n",
              "      <td>28</td>\n",
              "      <td>0.0</td>\n",
              "      <td>0.4</td>\n",
              "      <td>54</td>\n",
              "      <td>Mumbai</td>\n",
              "      <td>India</td>\n",
              "      <td>2020-02</td>\n",
              "      <td>17</td>\n",
              "    </tr>\n",
              "    <tr>\n",
              "      <th>2</th>\n",
              "      <td>638</td>\n",
              "      <td>33</td>\n",
              "      <td>21</td>\n",
              "      <td>31</td>\n",
              "      <td>0.0</td>\n",
              "      <td>6.2</td>\n",
              "      <td>54</td>\n",
              "      <td>Mumbai</td>\n",
              "      <td>India</td>\n",
              "      <td>2020-03</td>\n",
              "      <td>192152</td>\n",
              "    </tr>\n",
              "    <tr>\n",
              "      <th>3</th>\n",
              "      <td>639</td>\n",
              "      <td>33</td>\n",
              "      <td>24</td>\n",
              "      <td>30</td>\n",
              "      <td>0.0</td>\n",
              "      <td>7.0</td>\n",
              "      <td>54</td>\n",
              "      <td>Mumbai</td>\n",
              "      <td>India</td>\n",
              "      <td>2020-04</td>\n",
              "      <td>884047</td>\n",
              "    </tr>\n",
              "    <tr>\n",
              "      <th>4</th>\n",
              "      <td>640</td>\n",
              "      <td>34</td>\n",
              "      <td>27</td>\n",
              "      <td>27</td>\n",
              "      <td>0.0</td>\n",
              "      <td>26.6</td>\n",
              "      <td>54</td>\n",
              "      <td>Mumbai</td>\n",
              "      <td>India</td>\n",
              "      <td>2020-05</td>\n",
              "      <td>718241</td>\n",
              "    </tr>\n",
              "    <tr>\n",
              "      <th>5</th>\n",
              "      <td>641</td>\n",
              "      <td>32</td>\n",
              "      <td>26</td>\n",
              "      <td>8</td>\n",
              "      <td>0.0</td>\n",
              "      <td>494.6</td>\n",
              "      <td>54</td>\n",
              "      <td>Mumbai</td>\n",
              "      <td>India</td>\n",
              "      <td>2020-06</td>\n",
              "      <td>834359</td>\n",
              "    </tr>\n",
              "    <tr>\n",
              "      <th>6</th>\n",
              "      <td>642</td>\n",
              "      <td>31</td>\n",
              "      <td>26</td>\n",
              "      <td>2</td>\n",
              "      <td>0.0</td>\n",
              "      <td>735.8</td>\n",
              "      <td>54</td>\n",
              "      <td>Mumbai</td>\n",
              "      <td>India</td>\n",
              "      <td>2020-07</td>\n",
              "      <td>1922730</td>\n",
              "    </tr>\n",
              "    <tr>\n",
              "      <th>7</th>\n",
              "      <td>643</td>\n",
              "      <td>30</td>\n",
              "      <td>25</td>\n",
              "      <td>2</td>\n",
              "      <td>0.0</td>\n",
              "      <td>530.7</td>\n",
              "      <td>54</td>\n",
              "      <td>Mumbai</td>\n",
              "      <td>India</td>\n",
              "      <td>2020-08</td>\n",
              "      <td>1464676</td>\n",
              "    </tr>\n",
              "    <tr>\n",
              "      <th>8</th>\n",
              "      <td>644</td>\n",
              "      <td>31</td>\n",
              "      <td>25</td>\n",
              "      <td>8</td>\n",
              "      <td>0.0</td>\n",
              "      <td>348.0</td>\n",
              "      <td>54</td>\n",
              "      <td>Mumbai</td>\n",
              "      <td>India</td>\n",
              "      <td>2020-09</td>\n",
              "      <td>1201822</td>\n",
              "    </tr>\n",
              "    <tr>\n",
              "      <th>9</th>\n",
              "      <td>645</td>\n",
              "      <td>34</td>\n",
              "      <td>24</td>\n",
              "      <td>24</td>\n",
              "      <td>0.0</td>\n",
              "      <td>90.5</td>\n",
              "      <td>54</td>\n",
              "      <td>Mumbai</td>\n",
              "      <td>India</td>\n",
              "      <td>2020-10</td>\n",
              "      <td>1915046</td>\n",
              "    </tr>\n",
              "    <tr>\n",
              "      <th>10</th>\n",
              "      <td>646</td>\n",
              "      <td>34</td>\n",
              "      <td>21</td>\n",
              "      <td>29</td>\n",
              "      <td>0.0</td>\n",
              "      <td>5.0</td>\n",
              "      <td>54</td>\n",
              "      <td>Mumbai</td>\n",
              "      <td>India</td>\n",
              "      <td>2020-11</td>\n",
              "      <td>4408087</td>\n",
              "    </tr>\n",
              "    <tr>\n",
              "      <th>11</th>\n",
              "      <td>647</td>\n",
              "      <td>33</td>\n",
              "      <td>18</td>\n",
              "      <td>30</td>\n",
              "      <td>0.0</td>\n",
              "      <td>10.1</td>\n",
              "      <td>54</td>\n",
              "      <td>Mumbai</td>\n",
              "      <td>India</td>\n",
              "      <td>2020-12</td>\n",
              "      <td>2301604</td>\n",
              "    </tr>\n",
              "  </tbody>\n",
              "</table>\n",
              "</div>"
            ],
            "text/plain": [
              "    index  high  low  dryDays  ...    city  country    Month Confirmed_Cases\n",
              "0     636    31   17       29  ...  Mumbai    India  2020-01               8\n",
              "1     637    32   18       28  ...  Mumbai    India  2020-02              17\n",
              "2     638    33   21       31  ...  Mumbai    India  2020-03          192152\n",
              "3     639    33   24       30  ...  Mumbai    India  2020-04          884047\n",
              "4     640    34   27       27  ...  Mumbai    India  2020-05          718241\n",
              "5     641    32   26        8  ...  Mumbai    India  2020-06          834359\n",
              "6     642    31   26        2  ...  Mumbai    India  2020-07         1922730\n",
              "7     643    30   25        2  ...  Mumbai    India  2020-08         1464676\n",
              "8     644    31   25        8  ...  Mumbai    India  2020-09         1201822\n",
              "9     645    34   24       24  ...  Mumbai    India  2020-10         1915046\n",
              "10    646    34   21       29  ...  Mumbai    India  2020-11         4408087\n",
              "11    647    33   18       30  ...  Mumbai    India  2020-12         2301604\n",
              "\n",
              "[12 rows x 11 columns]"
            ]
          },
          "metadata": {
            "tags": []
          },
          "execution_count": 332
        }
      ]
    },
    {
      "cell_type": "markdown",
      "metadata": {
        "id": "i1WYXrihulaU"
      },
      "source": [
        "## Finding the Confirmed Cases for Russia by Month"
      ]
    },
    {
      "cell_type": "code",
      "metadata": {
        "colab": {
          "base_uri": "https://localhost:8080/",
          "height": 421
        },
        "id": "1D8Fkj47t31M",
        "outputId": "6f02e48b-5558-4775-edac-2893c79269b5"
      },
      "source": [
        "df_rus = df_1[df_1[\"Country/Region\"]==\"Russia\"][[\"Date\",\"Country/Region\",\"Confirmed\"]]\r\n",
        "x = df_rus.reset_index()\r\n",
        "new_li = [1]\r\n",
        "\r\n",
        "li = x[\"Confirmed\"]\r\n",
        "for i in range(1,x.shape[0]):\r\n",
        "    temp = abs(li[i] - li[i-1])\r\n",
        "    new_li.append(temp)\r\n",
        "df_rus[\"New_Confirmed_per_day\"] = new_li\r\n",
        "\r\n",
        "df_rus.Date = pd.to_datetime(df_rus.Date)\r\n",
        "Rus_Data = df_rus.groupby(pd.Grouper(key='Date', freq='1M')).agg({\"New_Confirmed_per_day\":'sum'}) # groupby each 1 month\r\n",
        "Rus_Data[\"Country\"] = \"Russia\"\r\n",
        "\r\n",
        "Rus_data = Rus_Data.reset_index()\r\n",
        "Rus_data[\"Month\"] = pd.to_datetime(Rus_data['Date']).dt.to_period('M')\r\n",
        "Rus_data"
      ],
      "execution_count": null,
      "outputs": [
        {
          "output_type": "execute_result",
          "data": {
            "text/html": [
              "<div>\n",
              "<style scoped>\n",
              "    .dataframe tbody tr th:only-of-type {\n",
              "        vertical-align: middle;\n",
              "    }\n",
              "\n",
              "    .dataframe tbody tr th {\n",
              "        vertical-align: top;\n",
              "    }\n",
              "\n",
              "    .dataframe thead th {\n",
              "        text-align: right;\n",
              "    }\n",
              "</style>\n",
              "<table border=\"1\" class=\"dataframe\">\n",
              "  <thead>\n",
              "    <tr style=\"text-align: right;\">\n",
              "      <th></th>\n",
              "      <th>Date</th>\n",
              "      <th>New_Confirmed_per_day</th>\n",
              "      <th>Country</th>\n",
              "      <th>Month</th>\n",
              "    </tr>\n",
              "  </thead>\n",
              "  <tbody>\n",
              "    <tr>\n",
              "      <th>0</th>\n",
              "      <td>2020-01-31</td>\n",
              "      <td>3</td>\n",
              "      <td>Russia</td>\n",
              "      <td>2020-01</td>\n",
              "    </tr>\n",
              "    <tr>\n",
              "      <th>1</th>\n",
              "      <td>2020-02-29</td>\n",
              "      <td>0</td>\n",
              "      <td>Russia</td>\n",
              "      <td>2020-02</td>\n",
              "    </tr>\n",
              "    <tr>\n",
              "      <th>2</th>\n",
              "      <td>2020-03-31</td>\n",
              "      <td>2335</td>\n",
              "      <td>Russia</td>\n",
              "      <td>2020-03</td>\n",
              "    </tr>\n",
              "    <tr>\n",
              "      <th>3</th>\n",
              "      <td>2020-04-30</td>\n",
              "      <td>104161</td>\n",
              "      <td>Russia</td>\n",
              "      <td>2020-04</td>\n",
              "    </tr>\n",
              "    <tr>\n",
              "      <th>4</th>\n",
              "      <td>2020-05-31</td>\n",
              "      <td>299345</td>\n",
              "      <td>Russia</td>\n",
              "      <td>2020-05</td>\n",
              "    </tr>\n",
              "    <tr>\n",
              "      <th>5</th>\n",
              "      <td>2020-06-30</td>\n",
              "      <td>241086</td>\n",
              "      <td>Russia</td>\n",
              "      <td>2020-06</td>\n",
              "    </tr>\n",
              "    <tr>\n",
              "      <th>6</th>\n",
              "      <td>2020-07-31</td>\n",
              "      <td>191532</td>\n",
              "      <td>Russia</td>\n",
              "      <td>2020-07</td>\n",
              "    </tr>\n",
              "    <tr>\n",
              "      <th>7</th>\n",
              "      <td>2020-08-31</td>\n",
              "      <td>153941</td>\n",
              "      <td>Russia</td>\n",
              "      <td>2020-08</td>\n",
              "    </tr>\n",
              "    <tr>\n",
              "      <th>8</th>\n",
              "      <td>2020-09-30</td>\n",
              "      <td>178397</td>\n",
              "      <td>Russia</td>\n",
              "      <td>2020-09</td>\n",
              "    </tr>\n",
              "    <tr>\n",
              "      <th>9</th>\n",
              "      <td>2020-10-31</td>\n",
              "      <td>435468</td>\n",
              "      <td>Russia</td>\n",
              "      <td>2020-10</td>\n",
              "    </tr>\n",
              "    <tr>\n",
              "      <th>10</th>\n",
              "      <td>2020-11-30</td>\n",
              "      <td>669669</td>\n",
              "      <td>Russia</td>\n",
              "      <td>2020-11</td>\n",
              "    </tr>\n",
              "    <tr>\n",
              "      <th>11</th>\n",
              "      <td>2020-12-31</td>\n",
              "      <td>298383</td>\n",
              "      <td>Russia</td>\n",
              "      <td>2020-12</td>\n",
              "    </tr>\n",
              "  </tbody>\n",
              "</table>\n",
              "</div>"
            ],
            "text/plain": [
              "         Date  New_Confirmed_per_day Country    Month\n",
              "0  2020-01-31                      3  Russia  2020-01\n",
              "1  2020-02-29                      0  Russia  2020-02\n",
              "2  2020-03-31                   2335  Russia  2020-03\n",
              "3  2020-04-30                 104161  Russia  2020-04\n",
              "4  2020-05-31                 299345  Russia  2020-05\n",
              "5  2020-06-30                 241086  Russia  2020-06\n",
              "6  2020-07-31                 191532  Russia  2020-07\n",
              "7  2020-08-31                 153941  Russia  2020-08\n",
              "8  2020-09-30                 178397  Russia  2020-09\n",
              "9  2020-10-31                 435468  Russia  2020-10\n",
              "10 2020-11-30                 669669  Russia  2020-11\n",
              "11 2020-12-31                 298383  Russia  2020-12"
            ]
          },
          "metadata": {
            "tags": []
          },
          "execution_count": 336
        }
      ]
    },
    {
      "cell_type": "code",
      "metadata": {
        "colab": {
          "base_uri": "https://localhost:8080/",
          "height": 421
        },
        "id": "aruxJt1k1JfP",
        "outputId": "65b56773-f730-4408-f31e-a615a09120a4"
      },
      "source": [
        "temp_data_rus = temp_data[temp_data['city'] == \"Moscow\"]\r\n",
        "final_temp_rus = temp_data_rus.reset_index()\r\n",
        "final_temp_rus[\"Month\"] = Rus_data.Month\r\n",
        "final_temp_rus[\"Confirmed_Cases\"] = Rus_data[\"New_Confirmed_per_day\"]\r\n",
        "final_temp_rus"
      ],
      "execution_count": null,
      "outputs": [
        {
          "output_type": "execute_result",
          "data": {
            "text/html": [
              "<div>\n",
              "<style scoped>\n",
              "    .dataframe tbody tr th:only-of-type {\n",
              "        vertical-align: middle;\n",
              "    }\n",
              "\n",
              "    .dataframe tbody tr th {\n",
              "        vertical-align: top;\n",
              "    }\n",
              "\n",
              "    .dataframe thead th {\n",
              "        text-align: right;\n",
              "    }\n",
              "</style>\n",
              "<table border=\"1\" class=\"dataframe\">\n",
              "  <thead>\n",
              "    <tr style=\"text-align: right;\">\n",
              "      <th></th>\n",
              "      <th>index</th>\n",
              "      <th>high</th>\n",
              "      <th>low</th>\n",
              "      <th>dryDays</th>\n",
              "      <th>snowDays</th>\n",
              "      <th>rainfall</th>\n",
              "      <th>id</th>\n",
              "      <th>city</th>\n",
              "      <th>country</th>\n",
              "      <th>Month</th>\n",
              "      <th>Confirmed_Cases</th>\n",
              "    </tr>\n",
              "  </thead>\n",
              "  <tbody>\n",
              "    <tr>\n",
              "      <th>0</th>\n",
              "      <td>624</td>\n",
              "      <td>-4</td>\n",
              "      <td>-9</td>\n",
              "      <td>10</td>\n",
              "      <td>23.0</td>\n",
              "      <td>44.7</td>\n",
              "      <td>53</td>\n",
              "      <td>Moscow</td>\n",
              "      <td>Russia</td>\n",
              "      <td>2020-01</td>\n",
              "      <td>3</td>\n",
              "    </tr>\n",
              "    <tr>\n",
              "      <th>1</th>\n",
              "      <td>625</td>\n",
              "      <td>-4</td>\n",
              "      <td>-11</td>\n",
              "      <td>12</td>\n",
              "      <td>20.0</td>\n",
              "      <td>45.1</td>\n",
              "      <td>53</td>\n",
              "      <td>Moscow</td>\n",
              "      <td>Russia</td>\n",
              "      <td>2020-02</td>\n",
              "      <td>0</td>\n",
              "    </tr>\n",
              "    <tr>\n",
              "      <th>2</th>\n",
              "      <td>626</td>\n",
              "      <td>3</td>\n",
              "      <td>-6</td>\n",
              "      <td>16</td>\n",
              "      <td>14.0</td>\n",
              "      <td>32.5</td>\n",
              "      <td>53</td>\n",
              "      <td>Moscow</td>\n",
              "      <td>Russia</td>\n",
              "      <td>2020-03</td>\n",
              "      <td>2335</td>\n",
              "    </tr>\n",
              "    <tr>\n",
              "      <th>3</th>\n",
              "      <td>627</td>\n",
              "      <td>11</td>\n",
              "      <td>1</td>\n",
              "      <td>18</td>\n",
              "      <td>4.0</td>\n",
              "      <td>31.4</td>\n",
              "      <td>53</td>\n",
              "      <td>Moscow</td>\n",
              "      <td>Russia</td>\n",
              "      <td>2020-04</td>\n",
              "      <td>104161</td>\n",
              "    </tr>\n",
              "    <tr>\n",
              "      <th>4</th>\n",
              "      <td>628</td>\n",
              "      <td>17</td>\n",
              "      <td>6</td>\n",
              "      <td>15</td>\n",
              "      <td>1.0</td>\n",
              "      <td>57.9</td>\n",
              "      <td>53</td>\n",
              "      <td>Moscow</td>\n",
              "      <td>Russia</td>\n",
              "      <td>2020-05</td>\n",
              "      <td>299345</td>\n",
              "    </tr>\n",
              "    <tr>\n",
              "      <th>5</th>\n",
              "      <td>629</td>\n",
              "      <td>22</td>\n",
              "      <td>11</td>\n",
              "      <td>15</td>\n",
              "      <td>0.0</td>\n",
              "      <td>73.4</td>\n",
              "      <td>53</td>\n",
              "      <td>Moscow</td>\n",
              "      <td>Russia</td>\n",
              "      <td>2020-06</td>\n",
              "      <td>241086</td>\n",
              "    </tr>\n",
              "    <tr>\n",
              "      <th>6</th>\n",
              "      <td>630</td>\n",
              "      <td>24</td>\n",
              "      <td>13</td>\n",
              "      <td>17</td>\n",
              "      <td>0.0</td>\n",
              "      <td>78.8</td>\n",
              "      <td>53</td>\n",
              "      <td>Moscow</td>\n",
              "      <td>Russia</td>\n",
              "      <td>2020-07</td>\n",
              "      <td>191532</td>\n",
              "    </tr>\n",
              "    <tr>\n",
              "      <th>7</th>\n",
              "      <td>631</td>\n",
              "      <td>22</td>\n",
              "      <td>11</td>\n",
              "      <td>16</td>\n",
              "      <td>0.0</td>\n",
              "      <td>75.0</td>\n",
              "      <td>53</td>\n",
              "      <td>Moscow</td>\n",
              "      <td>Russia</td>\n",
              "      <td>2020-08</td>\n",
              "      <td>153941</td>\n",
              "    </tr>\n",
              "    <tr>\n",
              "      <th>8</th>\n",
              "      <td>632</td>\n",
              "      <td>15</td>\n",
              "      <td>6</td>\n",
              "      <td>15</td>\n",
              "      <td>0.0</td>\n",
              "      <td>62.3</td>\n",
              "      <td>53</td>\n",
              "      <td>Moscow</td>\n",
              "      <td>Russia</td>\n",
              "      <td>2020-09</td>\n",
              "      <td>178397</td>\n",
              "    </tr>\n",
              "    <tr>\n",
              "      <th>9</th>\n",
              "      <td>633</td>\n",
              "      <td>8</td>\n",
              "      <td>2</td>\n",
              "      <td>14</td>\n",
              "      <td>4.0</td>\n",
              "      <td>77.2</td>\n",
              "      <td>53</td>\n",
              "      <td>Moscow</td>\n",
              "      <td>Russia</td>\n",
              "      <td>2020-10</td>\n",
              "      <td>435468</td>\n",
              "    </tr>\n",
              "    <tr>\n",
              "      <th>10</th>\n",
              "      <td>634</td>\n",
              "      <td>0</td>\n",
              "      <td>-5</td>\n",
              "      <td>12</td>\n",
              "      <td>15.0</td>\n",
              "      <td>45.3</td>\n",
              "      <td>53</td>\n",
              "      <td>Moscow</td>\n",
              "      <td>Russia</td>\n",
              "      <td>2020-11</td>\n",
              "      <td>669669</td>\n",
              "    </tr>\n",
              "    <tr>\n",
              "      <th>11</th>\n",
              "      <td>635</td>\n",
              "      <td>-3</td>\n",
              "      <td>-8</td>\n",
              "      <td>14</td>\n",
              "      <td>21.0</td>\n",
              "      <td>40.2</td>\n",
              "      <td>53</td>\n",
              "      <td>Moscow</td>\n",
              "      <td>Russia</td>\n",
              "      <td>2020-12</td>\n",
              "      <td>298383</td>\n",
              "    </tr>\n",
              "  </tbody>\n",
              "</table>\n",
              "</div>"
            ],
            "text/plain": [
              "    index  high  low  dryDays  ...    city  country    Month Confirmed_Cases\n",
              "0     624    -4   -9       10  ...  Moscow   Russia  2020-01               3\n",
              "1     625    -4  -11       12  ...  Moscow   Russia  2020-02               0\n",
              "2     626     3   -6       16  ...  Moscow   Russia  2020-03            2335\n",
              "3     627    11    1       18  ...  Moscow   Russia  2020-04          104161\n",
              "4     628    17    6       15  ...  Moscow   Russia  2020-05          299345\n",
              "5     629    22   11       15  ...  Moscow   Russia  2020-06          241086\n",
              "6     630    24   13       17  ...  Moscow   Russia  2020-07          191532\n",
              "7     631    22   11       16  ...  Moscow   Russia  2020-08          153941\n",
              "8     632    15    6       15  ...  Moscow   Russia  2020-09          178397\n",
              "9     633     8    2       14  ...  Moscow   Russia  2020-10          435468\n",
              "10    634     0   -5       12  ...  Moscow   Russia  2020-11          669669\n",
              "11    635    -3   -8       14  ...  Moscow   Russia  2020-12          298383\n",
              "\n",
              "[12 rows x 11 columns]"
            ]
          },
          "metadata": {
            "tags": []
          },
          "execution_count": 337
        }
      ]
    },
    {
      "cell_type": "markdown",
      "metadata": {
        "id": "IzUayrvz2Xe0"
      },
      "source": [
        "**Explantation Problem 8 --** Graph which represets Total Monthly Confirmed zCases vs Average Monthly Temperature month wise. The line here represents the \"Confirmed Cases\" , the Y-axis Represents the Average Temperature and X-axis represents the Month. Here, we observe that as the avg temperature increases we see a downward slope in the line whereas as the temp decreases the slop of line is positive. WHich clearly indicates that there is a negative Coorelation between the Total Number of Confirmed Cases and Monthly Average Temperature "
      ]
    },
    {
      "cell_type": "code",
      "metadata": {
        "colab": {
          "base_uri": "https://localhost:8080/",
          "height": 318
        },
        "id": "_u14GkjW1wa5",
        "outputId": "4295caac-3626-4a1c-def3-7a05c7e4c7ea"
      },
      "source": [
        "g_3 = final_temp_rus[[\"high\",\"Confirmed_Cases\",\"Month\"]]\r\n",
        "g_3[['Month','high']].plot(kind='bar',xlabel = \"Months\" ,ylabel = \"Average temperature[Russia]\")\r\n",
        "\r\n",
        "g_3['Confirmed_Cases'].plot(secondary_y=True, color = \"r\")\r\n",
        "plt.title(\"Monthly confirmed cases vs. the average monthly temperature [Russia]\")"
      ],
      "execution_count": null,
      "outputs": [
        {
          "output_type": "execute_result",
          "data": {
            "text/plain": [
              "Text(0.5, 1.0, 'Monthly confirmed cases vs. the average monthly temperature [Russia]')"
            ]
          },
          "metadata": {
            "tags": []
          },
          "execution_count": 338
        },
        {
          "output_type": "display_data",
          "data": {
            "image/png": "[encoded data removed]",
            "text/plain": [
              "<Figure size 432x288 with 2 Axes>"
            ]
          },
          "metadata": {
            "tags": []
          }
        }
      ]
    },
    {
      "cell_type": "code",
      "metadata": {
        "colab": {
          "base_uri": "https://localhost:8080/",
          "height": 318
        },
        "id": "6Fx7J-5E16_9",
        "outputId": "84e86723-70fb-46bc-afcf-bb9437b2f46c"
      },
      "source": [
        "g_2 = final_temp_Ind[[\"high\",\"Confirmed_Cases\",\"Month\"]]\r\n",
        "g_2[['Month','high']].plot(kind='bar',xlabel = \"Months\" ,ylabel = \"Average temperature[India]\")\r\n",
        "\r\n",
        "g_2['Confirmed_Cases'].plot(secondary_y=True, color = \"r\")\r\n",
        "plt.title(\"Monthly confirmed cases vs. the average monthly temperature [India]\")"
      ],
      "execution_count": null,
      "outputs": [
        {
          "output_type": "execute_result",
          "data": {
            "text/plain": [
              "Text(0.5, 1.0, 'Monthly confirmed cases vs. the average monthly temperature [India]')"
            ]
          },
          "metadata": {
            "tags": []
          },
          "execution_count": 339
        },
        {
          "output_type": "display_data",
          "data": {
            "image/png": "[encoded data removed]",
            "text/plain": [
              "<Figure size 432x288 with 2 Axes>"
            ]
          },
          "metadata": {
            "tags": []
          }
        }
      ]
    },
    {
      "cell_type": "code",
      "metadata": {
        "colab": {
          "base_uri": "https://localhost:8080/",
          "height": 318
        },
        "id": "0oVTONiK2Fr-",
        "outputId": "ced73db8-ad65-4a8d-e095-ac25728e9452"
      },
      "source": [
        "\r\n",
        "g = final_temp_data[[\"high\",\"Confirmed_Cases\",\"Month\"]]\r\n",
        "g[['Month','high']].plot(kind='bar',xlabel = \"Months\" ,ylabel = \"Average temperature[US]\")\r\n",
        "\r\n",
        "g['Confirmed_Cases'].plot(secondary_y=True, color = \"r\")\r\n",
        "plt.title(\"Monthly confirmed cases vs. the average monthly temperature [US]\")"
      ],
      "execution_count": null,
      "outputs": [
        {
          "output_type": "execute_result",
          "data": {
            "text/plain": [
              "Text(0.5, 1.0, 'Monthly confirmed cases vs. the average monthly temperature [US]')"
            ]
          },
          "metadata": {
            "tags": []
          },
          "execution_count": 340
        },
        {
          "output_type": "display_data",
          "data": {
            "image/png": "[encoded data removed]",
            "text/plain": [
              "<Figure size 432x288 with 2 Axes>"
            ]
          },
          "metadata": {
            "tags": []
          }
        }
      ]
    },
    {
      "cell_type": "markdown",
      "metadata": {
        "id": "Ia19veYZ3b0U"
      },
      "source": [
        "## Thus looking at all these graphs we can say that the Hypothesis stands True i.e the spread of coronavirus slows down as the temperature increases."
      ]
    },
    {
      "cell_type": "markdown",
      "metadata": {
        "id": "TUPzHeDEPZLN"
      },
      "source": [
        "## **9. Articulate your own research question related to COVID-19 and try to provide an answer to it using the given data set.**\r\n",
        "\r\n",
        "What are the 10 countries with the highest number of Deaths COVID-19 cases per capita?"
      ]
    },
    {
      "cell_type": "code",
      "metadata": {
        "colab": {
          "base_uri": "https://localhost:8080/",
          "height": 419
        },
        "id": "3YW4JnrkPYrQ",
        "outputId": "329d46c3-a153-42a0-fa9c-43af4dc7bfde"
      },
      "source": [
        "world_data = world_data.replace(\"U.S.\",\"US\")\r\n",
        "world_data = world_data.replace(\"Czech Republic\",\"Czechia\")\r\n",
        "\r\n",
        "df_9 =  world_data[[\"country\",\"population\"]]\r\n",
        "df_9_merged = pd.merge(left=new_df, right = df_9, how='left', left_on='Country/Region', right_on = \"country\")\r\n",
        "df_9_merged[\"Death_cases_per_capita\"] = df_9_merged[\"Deaths\"]/df_9_merged[\"population\"]\r\n",
        "df_9_merged"
      ],
      "execution_count": null,
      "outputs": [
        {
          "output_type": "execute_result",
          "data": {
            "text/html": [
              "<div>\n",
              "<style scoped>\n",
              "    .dataframe tbody tr th:only-of-type {\n",
              "        vertical-align: middle;\n",
              "    }\n",
              "\n",
              "    .dataframe tbody tr th {\n",
              "        vertical-align: top;\n",
              "    }\n",
              "\n",
              "    .dataframe thead th {\n",
              "        text-align: right;\n",
              "    }\n",
              "</style>\n",
              "<table border=\"1\" class=\"dataframe\">\n",
              "  <thead>\n",
              "    <tr style=\"text-align: right;\">\n",
              "      <th></th>\n",
              "      <th>Date</th>\n",
              "      <th>Country/Region</th>\n",
              "      <th>Confirmed</th>\n",
              "      <th>Deaths</th>\n",
              "      <th>Recovered</th>\n",
              "      <th>country</th>\n",
              "      <th>population</th>\n",
              "      <th>Death_cases_per_capita</th>\n",
              "    </tr>\n",
              "  </thead>\n",
              "  <tbody>\n",
              "    <tr>\n",
              "      <th>0</th>\n",
              "      <td>2020-12-11</td>\n",
              "      <td>Afghanistan</td>\n",
              "      <td>48116</td>\n",
              "      <td>1945</td>\n",
              "      <td>38141.0</td>\n",
              "      <td>Afghanistan</td>\n",
              "      <td>34169169.0</td>\n",
              "      <td>0.000057</td>\n",
              "    </tr>\n",
              "    <tr>\n",
              "      <th>1</th>\n",
              "      <td>2020-12-11</td>\n",
              "      <td>Albania</td>\n",
              "      <td>46863</td>\n",
              "      <td>977</td>\n",
              "      <td>24136.0</td>\n",
              "      <td>Albania</td>\n",
              "      <td>2911428.0</td>\n",
              "      <td>0.000336</td>\n",
              "    </tr>\n",
              "    <tr>\n",
              "      <th>2</th>\n",
              "      <td>2020-12-11</td>\n",
              "      <td>Algeria</td>\n",
              "      <td>91121</td>\n",
              "      <td>2575</td>\n",
              "      <td>59590.0</td>\n",
              "      <td>Algeria</td>\n",
              "      <td>41063753.0</td>\n",
              "      <td>0.000063</td>\n",
              "    </tr>\n",
              "    <tr>\n",
              "      <th>3</th>\n",
              "      <td>2020-12-11</td>\n",
              "      <td>Andorra</td>\n",
              "      <td>7236</td>\n",
              "      <td>78</td>\n",
              "      <td>6598.0</td>\n",
              "      <td>Andorra</td>\n",
              "      <td>68728.0</td>\n",
              "      <td>0.001135</td>\n",
              "    </tr>\n",
              "    <tr>\n",
              "      <th>4</th>\n",
              "      <td>2020-12-11</td>\n",
              "      <td>Angola</td>\n",
              "      <td>16061</td>\n",
              "      <td>365</td>\n",
              "      <td>8798.0</td>\n",
              "      <td>Angola</td>\n",
              "      <td>26655513.0</td>\n",
              "      <td>0.000014</td>\n",
              "    </tr>\n",
              "    <tr>\n",
              "      <th>...</th>\n",
              "      <td>...</td>\n",
              "      <td>...</td>\n",
              "      <td>...</td>\n",
              "      <td>...</td>\n",
              "      <td>...</td>\n",
              "      <td>...</td>\n",
              "      <td>...</td>\n",
              "      <td>...</td>\n",
              "    </tr>\n",
              "    <tr>\n",
              "      <th>186</th>\n",
              "      <td>2020-12-11</td>\n",
              "      <td>Vietnam</td>\n",
              "      <td>1391</td>\n",
              "      <td>35</td>\n",
              "      <td>1238.0</td>\n",
              "      <td>NaN</td>\n",
              "      <td>NaN</td>\n",
              "      <td>NaN</td>\n",
              "    </tr>\n",
              "    <tr>\n",
              "      <th>187</th>\n",
              "      <td>2020-12-11</td>\n",
              "      <td>West Bank and Gaza</td>\n",
              "      <td>106622</td>\n",
              "      <td>931</td>\n",
              "      <td>81166.0</td>\n",
              "      <td>NaN</td>\n",
              "      <td>NaN</td>\n",
              "      <td>NaN</td>\n",
              "    </tr>\n",
              "    <tr>\n",
              "      <th>188</th>\n",
              "      <td>2020-12-11</td>\n",
              "      <td>Yemen</td>\n",
              "      <td>2082</td>\n",
              "      <td>606</td>\n",
              "      <td>1383.0</td>\n",
              "      <td>Yemen</td>\n",
              "      <td>28119546.0</td>\n",
              "      <td>0.000022</td>\n",
              "    </tr>\n",
              "    <tr>\n",
              "      <th>189</th>\n",
              "      <td>2020-12-11</td>\n",
              "      <td>Zambia</td>\n",
              "      <td>18161</td>\n",
              "      <td>365</td>\n",
              "      <td>17329.0</td>\n",
              "      <td>Zambia</td>\n",
              "      <td>17237931.0</td>\n",
              "      <td>0.000021</td>\n",
              "    </tr>\n",
              "    <tr>\n",
              "      <th>190</th>\n",
              "      <td>2020-12-11</td>\n",
              "      <td>Zimbabwe</td>\n",
              "      <td>11162</td>\n",
              "      <td>306</td>\n",
              "      <td>9324.0</td>\n",
              "      <td>Zimbabwe</td>\n",
              "      <td>16337760.0</td>\n",
              "      <td>0.000019</td>\n",
              "    </tr>\n",
              "  </tbody>\n",
              "</table>\n",
              "<p>191 rows × 8 columns</p>\n",
              "</div>"
            ],
            "text/plain": [
              "          Date      Country/Region  ...  population  Death_cases_per_capita\n",
              "0   2020-12-11         Afghanistan  ...  34169169.0                0.000057\n",
              "1   2020-12-11             Albania  ...   2911428.0                0.000336\n",
              "2   2020-12-11             Algeria  ...  41063753.0                0.000063\n",
              "3   2020-12-11             Andorra  ...     68728.0                0.001135\n",
              "4   2020-12-11              Angola  ...  26655513.0                0.000014\n",
              "..         ...                 ...  ...         ...                     ...\n",
              "186 2020-12-11             Vietnam  ...         NaN                     NaN\n",
              "187 2020-12-11  West Bank and Gaza  ...         NaN                     NaN\n",
              "188 2020-12-11               Yemen  ...  28119546.0                0.000022\n",
              "189 2020-12-11              Zambia  ...  17237931.0                0.000021\n",
              "190 2020-12-11            Zimbabwe  ...  16337760.0                0.000019\n",
              "\n",
              "[191 rows x 8 columns]"
            ]
          },
          "metadata": {
            "tags": []
          },
          "execution_count": 342
        }
      ]
    },
    {
      "cell_type": "code",
      "metadata": {
        "colab": {
          "base_uri": "https://localhost:8080/",
          "height": 669
        },
        "id": "57JsGZYjPDnb",
        "outputId": "d910db48-f8bb-4a7b-8809-1d018e6d6d0d"
      },
      "source": [
        "countries = pd.DataFrame(df_9_merged.sort_values(\"Death_cases_per_capita\", ascending=False)[:20])\r\n",
        "final_df_9 = countries[[\"Country/Region\", \"Death_cases_per_capita\"]].reset_index()\r\n",
        "final_df_9[[\"Country/Region\",\"Death_cases_per_capita\"]]"
      ],
      "execution_count": null,
      "outputs": [
        {
          "output_type": "execute_result",
          "data": {
            "text/html": [
              "<div>\n",
              "<style scoped>\n",
              "    .dataframe tbody tr th:only-of-type {\n",
              "        vertical-align: middle;\n",
              "    }\n",
              "\n",
              "    .dataframe tbody tr th {\n",
              "        vertical-align: top;\n",
              "    }\n",
              "\n",
              "    .dataframe thead th {\n",
              "        text-align: right;\n",
              "    }\n",
              "</style>\n",
              "<table border=\"1\" class=\"dataframe\">\n",
              "  <thead>\n",
              "    <tr style=\"text-align: right;\">\n",
              "      <th></th>\n",
              "      <th>Country/Region</th>\n",
              "      <th>Death_cases_per_capita</th>\n",
              "    </tr>\n",
              "  </thead>\n",
              "  <tbody>\n",
              "    <tr>\n",
              "      <th>0</th>\n",
              "      <td>San Marino</td>\n",
              "      <td>0.001557</td>\n",
              "    </tr>\n",
              "    <tr>\n",
              "      <th>1</th>\n",
              "      <td>Belgium</td>\n",
              "      <td>0.001546</td>\n",
              "    </tr>\n",
              "    <tr>\n",
              "      <th>2</th>\n",
              "      <td>Andorra</td>\n",
              "      <td>0.001135</td>\n",
              "    </tr>\n",
              "    <tr>\n",
              "      <th>3</th>\n",
              "      <td>Peru</td>\n",
              "      <td>0.001135</td>\n",
              "    </tr>\n",
              "    <tr>\n",
              "      <th>4</th>\n",
              "      <td>Italy</td>\n",
              "      <td>0.001060</td>\n",
              "    </tr>\n",
              "    <tr>\n",
              "      <th>5</th>\n",
              "      <td>Spain</td>\n",
              "      <td>0.001034</td>\n",
              "    </tr>\n",
              "    <tr>\n",
              "      <th>6</th>\n",
              "      <td>Slovenia</td>\n",
              "      <td>0.000965</td>\n",
              "    </tr>\n",
              "    <tr>\n",
              "      <th>7</th>\n",
              "      <td>Argentina</td>\n",
              "      <td>0.000917</td>\n",
              "    </tr>\n",
              "    <tr>\n",
              "      <th>8</th>\n",
              "      <td>Montenegro</td>\n",
              "      <td>0.000909</td>\n",
              "    </tr>\n",
              "    <tr>\n",
              "      <th>9</th>\n",
              "      <td>US</td>\n",
              "      <td>0.000905</td>\n",
              "    </tr>\n",
              "    <tr>\n",
              "      <th>10</th>\n",
              "      <td>France</td>\n",
              "      <td>0.000888</td>\n",
              "    </tr>\n",
              "    <tr>\n",
              "      <th>11</th>\n",
              "      <td>Czechia</td>\n",
              "      <td>0.000885</td>\n",
              "    </tr>\n",
              "    <tr>\n",
              "      <th>12</th>\n",
              "      <td>Mexico</td>\n",
              "      <td>0.000868</td>\n",
              "    </tr>\n",
              "    <tr>\n",
              "      <th>13</th>\n",
              "      <td>Chile</td>\n",
              "      <td>0.000862</td>\n",
              "    </tr>\n",
              "    <tr>\n",
              "      <th>14</th>\n",
              "      <td>Bosnia and Herzegovina</td>\n",
              "      <td>0.000857</td>\n",
              "    </tr>\n",
              "    <tr>\n",
              "      <th>15</th>\n",
              "      <td>Brazil</td>\n",
              "      <td>0.000854</td>\n",
              "    </tr>\n",
              "    <tr>\n",
              "      <th>16</th>\n",
              "      <td>Ecuador</td>\n",
              "      <td>0.000834</td>\n",
              "    </tr>\n",
              "    <tr>\n",
              "      <th>17</th>\n",
              "      <td>Panama</td>\n",
              "      <td>0.000817</td>\n",
              "    </tr>\n",
              "    <tr>\n",
              "      <th>18</th>\n",
              "      <td>Bolivia</td>\n",
              "      <td>0.000815</td>\n",
              "    </tr>\n",
              "    <tr>\n",
              "      <th>19</th>\n",
              "      <td>Armenia</td>\n",
              "      <td>0.000806</td>\n",
              "    </tr>\n",
              "  </tbody>\n",
              "</table>\n",
              "</div>"
            ],
            "text/plain": [
              "            Country/Region  Death_cases_per_capita\n",
              "0               San Marino                0.001557\n",
              "1                  Belgium                0.001546\n",
              "2                  Andorra                0.001135\n",
              "3                     Peru                0.001135\n",
              "4                    Italy                0.001060\n",
              "5                    Spain                0.001034\n",
              "6                 Slovenia                0.000965\n",
              "7                Argentina                0.000917\n",
              "8               Montenegro                0.000909\n",
              "9                       US                0.000905\n",
              "10                  France                0.000888\n",
              "11                 Czechia                0.000885\n",
              "12                  Mexico                0.000868\n",
              "13                   Chile                0.000862\n",
              "14  Bosnia and Herzegovina                0.000857\n",
              "15                  Brazil                0.000854\n",
              "16                 Ecuador                0.000834\n",
              "17                  Panama                0.000817\n",
              "18                 Bolivia                0.000815\n",
              "19                 Armenia                0.000806"
            ]
          },
          "metadata": {
            "tags": []
          },
          "execution_count": 346
        }
      ]
    },
    {
      "cell_type": "code",
      "metadata": {
        "colab": {
          "base_uri": "https://localhost:8080/",
          "height": 427
        },
        "id": "ow-9wHa9RjVz",
        "outputId": "97c1ea79-2df3-4a97-ae01-33c432d5960d"
      },
      "source": [
        "import seaborn as sns\r\n",
        "import matplotlib.pyplot as plt\r\n",
        "\r\n",
        "fig, ax = plt.subplots(figsize = (16,6))\r\n",
        "sns.set_theme(style=\"whitegrid\")\r\n",
        "\r\n",
        "ax = sns.barplot(x=\"Death_cases_per_capita\", y=\"Country/Region\", data = final_df_9)\r\n",
        "\r\n",
        "ax.set_title(\"Highest NUmber of Covid Cases-19 cases per capita\")"
      ],
      "execution_count": null,
      "outputs": [
        {
          "output_type": "execute_result",
          "data": {
            "text/plain": [
              "Text(0.5, 1.0, 'Highest NUmber of Covid Cases-19 cases per capita')"
            ]
          },
          "metadata": {
            "tags": []
          },
          "execution_count": 348
        },
        {
          "output_type": "display_data",
          "data": {
            "image/png": "[encoded data removed]",
            "text/plain": [
              "<Figure size 1152x432 with 1 Axes>"
            ]
          },
          "metadata": {
            "tags": []
          }
        }
      ]
    },
    {
      "cell_type": "code",
      "metadata": {
        "id": "-urupZ_PSbwx"
      },
      "source": [
        ""
      ],
      "execution_count": null,
      "outputs": []
    }
  ]
}